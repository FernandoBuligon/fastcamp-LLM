{
  "cells": [
    {
      "cell_type": "code",
      "execution_count": 1,
      "metadata": {
        "colab": {
          "base_uri": "https://localhost:8080/"
        },
        "id": "HI15Mi_R0uIF",
        "outputId": "4e3284fb-3fac-40d2-d7f3-16f83e9a00ac"
      },
      "outputs": [
        {
          "name": "stdout",
          "output_type": "stream",
          "text": [
            "Collecting pt-core-news-lg==3.8.0\n",
            "  Downloading https://github.com/explosion/spacy-models/releases/download/pt_core_news_lg-3.8.0/pt_core_news_lg-3.8.0-py3-none-any.whl (568.2 MB)\n",
            "\u001b[2K     \u001b[90m━━━━━━━━━━━━━━━━━━━━━━━━━━━━━━━━━━━━━━━━\u001b[0m \u001b[32m568.2/568.2 MB\u001b[0m \u001b[31m2.4 MB/s\u001b[0m eta \u001b[36m0:00:00\u001b[0m\n",
            "\u001b[?25hInstalling collected packages: pt-core-news-lg\n",
            "Successfully installed pt-core-news-lg-3.8.0\n",
            "\u001b[38;5;2m✔ Download and installation successful\u001b[0m\n",
            "You can now load the package via spacy.load('pt_core_news_lg')\n",
            "\u001b[38;5;3m⚠ Restart to reload dependencies\u001b[0m\n",
            "If you are in a Jupyter or Colab notebook, you may need to restart Python in\n",
            "order to load all the package's dependencies. You can do this by selecting the\n",
            "'Restart kernel' or 'Restart runtime' option.\n"
          ]
        }
      ],
      "source": [
        "!python -m spacy download 'pt_core_news_lg' # Intalação do modelo pré treinado grande em português"
      ]
    },
    {
      "cell_type": "code",
      "execution_count": 2,
      "metadata": {
        "id": "mVgDudmz1I5H"
      },
      "outputs": [],
      "source": [
        "import spacy # importação da biblioteca"
      ]
    },
    {
      "cell_type": "code",
      "execution_count": 3,
      "metadata": {
        "id": "aa-NL3UD3Auk"
      },
      "outputs": [],
      "source": [
        "nlp = spacy.load('pt_core_news_lg') # Carregamento do modelo"
      ]
    },
    {
      "cell_type": "code",
      "execution_count": 4,
      "metadata": {
        "colab": {
          "base_uri": "https://localhost:8080/",
          "height": 204
        },
        "id": "9e645_E04KCf",
        "outputId": "c90527c7-063b-40d8-d4ca-4c97385e225f"
      },
      "outputs": [
        {
          "data": {
            "text/html": [
              "<div style=\"max-width:800px; border: 1px solid var(--colab-border-color);\"><style>\n",
              "      pre.function-repr-contents {\n",
              "        overflow-x: auto;\n",
              "        padding: 8px 12px;\n",
              "        max-height: 500px;\n",
              "      }\n",
              "\n",
              "      pre.function-repr-contents.function-repr-contents-collapsed {\n",
              "        cursor: pointer;\n",
              "        max-height: 100px;\n",
              "      }\n",
              "    </style>\n",
              "    <pre style=\"white-space: initial; background:\n",
              "         var(--colab-secondary-surface-color); padding: 8px 12px;\n",
              "         border-bottom: 1px solid var(--colab-border-color);\"><b>spacy.lang.pt.Portuguese</b><br/>def __call__(text: Union[str, Doc], *, disable: Iterable[str]=SimpleFrozenList(), component_cfg: Optional[Dict[str, Dict[str, Any]]]=None) -&gt; Doc</pre><pre class=\"function-repr-contents function-repr-contents-collapsed\" style=\"\"><a class=\"filepath\" style=\"display:none\" href=\"#\">/usr/local/lib/python3.11/dist-packages/spacy/lang/pt/__init__.py</a>A text-processing pipeline. Usually you&#x27;ll load this once per process,\n",
              "and pass the instance around your application.\n",
              "\n",
              "Defaults (class): Settings, data and factory methods for creating the `nlp`\n",
              "    object and processing pipeline.\n",
              "lang (str): IETF language code, such as &#x27;en&#x27;.\n",
              "\n",
              "DOCS: https://spacy.io/api/language</pre>\n",
              "      <script>\n",
              "      if (google.colab.kernel.accessAllowed && google.colab.files && google.colab.files.view) {\n",
              "        for (const element of document.querySelectorAll('.filepath')) {\n",
              "          element.style.display = 'block'\n",
              "          element.onclick = (event) => {\n",
              "            event.preventDefault();\n",
              "            event.stopPropagation();\n",
              "            google.colab.files.view(element.textContent, 18);\n",
              "          };\n",
              "        }\n",
              "      }\n",
              "      for (const element of document.querySelectorAll('.function-repr-contents')) {\n",
              "        element.onclick = (event) => {\n",
              "          event.preventDefault();\n",
              "          event.stopPropagation();\n",
              "          element.classList.toggle('function-repr-contents-collapsed');\n",
              "        };\n",
              "      }\n",
              "      </script>\n",
              "      </div>"
            ],
            "text/plain": [
              "spacy.lang.pt.Portuguese"
            ]
          },
          "execution_count": 4,
          "metadata": {},
          "output_type": "execute_result"
        }
      ],
      "source": [
        "type(nlp) # Mostra o tipo de objeto"
      ]
    },
    {
      "cell_type": "code",
      "execution_count": 5,
      "metadata": {
        "colab": {
          "base_uri": "https://localhost:8080/"
        },
        "id": "TEZmumC04Tso",
        "outputId": "88679bb6-6ff9-4ce5-ca74-e30b6bc528e8"
      },
      "outputs": [
        {
          "data": {
            "text/plain": [
              "['tok2vec', 'morphologizer', 'parser', 'lemmatizer', 'attribute_ruler', 'ner']"
            ]
          },
          "execution_count": 5,
          "metadata": {},
          "output_type": "execute_result"
        }
      ],
      "source": [
        "nlp.pipe_names # Mostra os objetos no pipeline"
      ]
    },
    {
      "cell_type": "code",
      "execution_count": 6,
      "metadata": {
        "id": "ZCEjS23Z4s6Z"
      },
      "outputs": [],
      "source": [
        "# Criação do documento que vamos usar\n",
        "documento = nlp(\"As ações do Magazine Luiza S.A., Franca, Brasil, acumularam baixa de 70% ao ano. Assim já devolveram todos os ganhos do período da pandemia\")\n"
      ]
    },
    {
      "cell_type": "code",
      "execution_count": 7,
      "metadata": {
        "colab": {
          "base_uri": "https://localhost:8080/"
        },
        "id": "ErSo_qLN5JlD",
        "outputId": "e2965011-4b8b-4b68-f888-1305688eec3a"
      },
      "outputs": [
        {
          "data": {
            "text/plain": [
              "375"
            ]
          },
          "execution_count": 7,
          "metadata": {},
          "output_type": "execute_result"
        }
      ],
      "source": [
        "len(documento.vocab) # tamanho do vocabulário"
      ]
    },
    {
      "cell_type": "code",
      "execution_count": 8,
      "metadata": {
        "colab": {
          "base_uri": "https://localhost:8080/"
        },
        "id": "HKgl-Hcc5VyP",
        "outputId": "5fb2c4cc-9e40-4656-d62d-f7104e003741"
      },
      "outputs": [
        {
          "data": {
            "text/plain": [
              "spacy.tokens.doc.Doc"
            ]
          },
          "execution_count": 8,
          "metadata": {},
          "output_type": "execute_result"
        }
      ],
      "source": [
        "type(documento) # Tipo do documento"
      ]
    },
    {
      "cell_type": "code",
      "execution_count": 9,
      "metadata": {
        "colab": {
          "base_uri": "https://localhost:8080/"
        },
        "id": "Y18UrDGw5cVo",
        "outputId": "8cb8d490-e1dd-43ff-fae3-fd58e4ef2c97"
      },
      "outputs": [
        {
          "name": "stdout",
          "output_type": "stream",
          "text": [
            "As\n",
            "ações\n",
            "do\n",
            "Magazine\n",
            "Luiza\n",
            "S.A.\n",
            ",\n",
            "Franca\n",
            ",\n",
            "Brasil\n",
            ",\n",
            "acumularam\n",
            "baixa\n",
            "de\n",
            "70\n",
            "%\n",
            "ao\n",
            "ano\n",
            ".\n",
            "Assim\n",
            "já\n",
            "devolveram\n",
            "todos\n",
            "os\n",
            "ganhos\n",
            "do\n",
            "período\n",
            "da\n",
            "pandemia\n"
          ]
        }
      ],
      "source": [
        "# Percorre os tokens do documento e printa o texto armazenado\n",
        "for token in documento:\n",
        "  print(token.text)"
      ]
    },
    {
      "cell_type": "code",
      "execution_count": 10,
      "metadata": {
        "colab": {
          "base_uri": "https://localhost:8080/"
        },
        "id": "gyJ351_w81XB",
        "outputId": "2e544df9-a08b-4067-eec7-dd56e26a5d17"
      },
      "outputs": [
        {
          "name": "stdout",
          "output_type": "stream",
          "text": [
            "Magazine\n"
          ]
        }
      ],
      "source": [
        "print(documento[3]) # Printando um token por index"
      ]
    },
    {
      "cell_type": "code",
      "execution_count": 11,
      "metadata": {
        "colab": {
          "base_uri": "https://localhost:8080/"
        },
        "id": "lyuw7OLr9fto",
        "outputId": "b8cc4550-68c8-41e5-823a-42321b0562f4"
      },
      "outputs": [
        {
          "name": "stdout",
          "output_type": "stream",
          "text": [
            "As ações do Magazine\n"
          ]
        }
      ],
      "source": [
        "print(documento[0:4]) # Printando os tokens dentro de um range"
      ]
    },
    {
      "cell_type": "code",
      "execution_count": 12,
      "metadata": {
        "colab": {
          "base_uri": "https://localhost:8080/"
        },
        "id": "2udMQPmm9s4_",
        "outputId": "6a79a0a5-78a2-42f3-b2c5-fc26b285310d"
      },
      "outputs": [
        {
          "name": "stdout",
          "output_type": "stream",
          "text": [
            "29\n"
          ]
        }
      ],
      "source": [
        "print(len(documento)) # Quantidade de tokens"
      ]
    },
    {
      "cell_type": "code",
      "execution_count": 13,
      "metadata": {
        "colab": {
          "base_uri": "https://localhost:8080/"
        },
        "id": "so-oe3Uu9xP1",
        "outputId": "416e403d-9924-4cb4-f3e7-bb01f067d644"
      },
      "outputs": [
        {
          "name": "stdout",
          "output_type": "stream",
          "text": [
            "Tokens:  ['As', 'ações', 'do', 'Magazine', 'Luiza', 'S.A.', ',', 'Franca', ',', 'Brasil', ',', 'acumularam', 'baixa', 'de', '70', '%', 'ao', 'ano', '.', 'Assim', 'já', 'devolveram', 'todos', 'os', 'ganhos', 'do', 'período', 'da', 'pandemia']\n",
            "Stop word:  [True, False, True, False, False, False, False, False, False, False, False, False, False, True, False, False, True, False, False, True, True, False, True, True, False, True, False, True, False]\n",
            "Alfanumerico:  [True, True, True, True, True, False, False, True, False, True, False, True, True, True, False, False, True, True, False, True, True, True, True, True, True, True, True, True, True]\n",
            "Maísculo:  [False, False, False, False, False, True, False, False, False, False, False, False, False, False, False, False, False, False, False, False, False, False, False, False, False, False, False, False, False]\n",
            "Pontuação:  [False, False, False, False, False, False, True, False, True, False, True, False, False, False, False, True, False, False, True, False, False, False, False, False, False, False, False, False, False]\n",
            "Número:  [False, False, False, False, False, False, False, False, False, False, False, False, False, False, True, False, False, False, False, False, False, False, False, False, False, False, False, False, False]\n",
            "Sentença inicial:  [True, False, False, False, False, False, False, False, False, False, False, False, False, False, False, False, False, False, False, True, False, False, False, False, False, False, False, False, False]\n"
          ]
        }
      ],
      "source": [
        "print(\"Tokens: \",[token.text for token in documento]) # Printa os tokens\n",
        "print(\"Stop word: \",[token.is_stop for token in documento]) # Printa se é stop word (True ou False)\n",
        "print(\"Alfanumerico: \",[token.is_alpha for token in documento]) # Printa se é alfanumerico (True ou False)\n",
        "print(\"Maísculo: \",[token.is_upper for token in documento]) # Printa se é maísculo (True ou False)\n",
        "print(\"Pontuação: \",[token.is_punct for token in documento]) # Printa se é pontuação (True ou False)\n",
        "print(\"Número: \",[token.like_num for token in documento]) # Printa se é número (True ou False)\n",
        "print(\"Sentença inicial: \",[token.is_sent_start for token in documento]) # Printa se é sentença inicial (True ou False)\n"
      ]
    },
    {
      "cell_type": "code",
      "execution_count": 14,
      "metadata": {
        "colab": {
          "base_uri": "https://localhost:8080/"
        },
        "id": "95zz7CWc-DVJ",
        "outputId": "5c4709ed-6705-45c4-910f-69bd636124d9"
      },
      "outputs": [
        {
          "name": "stdout",
          "output_type": "stream",
          "text": [
            "Tokens:  ['As', 'ações', 'do', 'Magazine', 'Luiza', 'S.A.', ',', 'Franca', ',', 'Brasil', ',', 'acumularam', 'baixa', 'de', '70', '%', 'ao', 'ano', '.', 'Assim', 'já', 'devolveram', 'todos', 'os', 'ganhos', 'do', 'período', 'da', 'pandemia']\n",
            "Formato:  ['Xx', 'xxxx', 'xx', 'Xxxxx', 'Xxxxx', 'X.X.', ',', 'Xxxxx', ',', 'Xxxxx', ',', 'xxxx', 'xxxx', 'xx', 'dd', '%', 'xx', 'xxx', '.', 'Xxxxx', 'xx', 'xxxx', 'xxxx', 'xx', 'xxxx', 'xx', 'xxxx', 'xx', 'xxxx']\n"
          ]
        }
      ],
      "source": [
        "print(\"Tokens: \",[token.text for token in documento]) # Printa os tokens\n",
        "print(\"Formato: \",[token.shape_ for token in documento]) # Printa o formato"
      ]
    },
    {
      "cell_type": "code",
      "execution_count": 15,
      "metadata": {
        "colab": {
          "base_uri": "https://localhost:8080/"
        },
        "id": "8BaoH125_QPG",
        "outputId": "5e634f4a-0ce1-4e00-ddec-04b2b2905b49"
      },
      "outputs": [
        {
          "name": "stdout",
          "output_type": "stream",
          "text": [
            "Pontuação encontrada:  ,\n",
            "Pontuação encontrada:  ,\n",
            "Pontuação encontrada:  ,\n",
            "Número encontrado:  70\n",
            "Pontuação encontrada:  %\n",
            "Pontuação encontrada:  .\n"
          ]
        }
      ],
      "source": [
        "# Percorre o documento printando os números e pontuações\n",
        "for token in documento:\n",
        "  if token.like_num:\n",
        "    print(\"Número encontrado: \", token.text)\n",
        "  if token.is_punct:\n",
        "    print(\"Pontuação encontrada: \", token.text)\n"
      ]
    },
    {
      "cell_type": "code",
      "execution_count": 16,
      "metadata": {
        "colab": {
          "base_uri": "https://localhost:8080/"
        },
        "id": "q3JsDQ6U_o__",
        "outputId": "758649a2-67fb-4169-c358-06266054a759"
      },
      "outputs": [
        {
          "name": "stdout",
          "output_type": "stream",
          "text": [
            "As  -  DET  -  det  -  o  -  Xx\n",
            "ações  -  NOUN  -  nsubj  -  ação  -  xxxx\n",
            "do  -  ADP  -  case  -  de o  -  xx\n",
            "Magazine  -  PROPN  -  nmod  -  Magazine  -  Xxxxx\n",
            "Luiza  -  PROPN  -  flat:name  -  Luiza  -  Xxxxx\n",
            "S.A.  -  PROPN  -  flat:name  -  S.A.  -  X.X.\n",
            ",  -  PUNCT  -  punct  -  ,  -  ,\n",
            "Franca  -  PROPN  -  conj  -  Franca  -  Xxxxx\n",
            ",  -  PUNCT  -  punct  -  ,  -  ,\n",
            "Brasil  -  PROPN  -  conj  -  Brasil  -  Xxxxx\n",
            ",  -  PUNCT  -  punct  -  ,  -  ,\n",
            "acumularam  -  VERB  -  ROOT  -  acumular  -  xxxx\n",
            "baixa  -  NOUN  -  obj  -  baixa  -  xxxx\n",
            "de  -  ADP  -  case  -  de  -  xx\n",
            "70  -  NUM  -  nummod  -  70  -  dd\n",
            "%  -  SYM  -  nmod  -  %  -  %\n",
            "ao  -  ADP  -  case  -  a o  -  xx\n",
            "ano  -  NOUN  -  nmod  -  ano  -  xxx\n",
            ".  -  PUNCT  -  punct  -  .  -  .\n",
            "Assim  -  ADV  -  mark  -  assim  -  Xxxxx\n",
            "já  -  ADV  -  advmod  -  já  -  xx\n",
            "devolveram  -  VERB  -  ROOT  -  devolver  -  xxxx\n",
            "todos  -  DET  -  det  -  todo  -  xxxx\n",
            "os  -  DET  -  fixed  -  o  -  xx\n",
            "ganhos  -  NOUN  -  obj  -  ganho  -  xxxx\n",
            "do  -  ADP  -  case  -  de o  -  xx\n",
            "período  -  NOUN  -  nmod  -  período  -  xxxx\n",
            "da  -  ADP  -  case  -  de o  -  xx\n",
            "pandemia  -  NOUN  -  nmod  -  pandemia  -  xxxx\n"
          ]
        }
      ],
      "source": [
        "# Printa o token, a classe gramatical, a dependencia, a palavra raiz e o formato\n",
        "for token in documento:\n",
        "  print(token.text, \" - \", token.pos_, \" - \", token.dep_, \" - \", token.lemma_, \" - \", token.shape_)\n",
        "# é necessário colocar o \"_\" pois se tirar ele vai trazer a referência númerica"
      ]
    },
    {
      "cell_type": "code",
      "execution_count": 17,
      "metadata": {
        "colab": {
          "base_uri": "https://localhost:8080/"
        },
        "id": "QOetIaQ6AdvM",
        "outputId": "b08b2515-0078-4d6c-e753-4fe0e707946a"
      },
      "outputs": [
        {
          "name": "stdout",
          "output_type": "stream",
          "text": [
            "As  -  Definite=Def|Gender=Fem|Number=Plur|PronType=Art\n",
            "ações  -  Gender=Fem|Number=Plur\n",
            "do  -  Definite=Def|Gender=Masc|Number=Sing|PronType=Art\n",
            "Magazine  -  Gender=Masc|Number=Sing\n",
            "Luiza  -  Number=Sing\n",
            "S.A.  -  Number=Sing\n",
            ",  -  \n",
            "Franca  -  Gender=Fem|Number=Sing\n",
            ",  -  \n",
            "Brasil  -  Gender=Masc|Number=Sing\n",
            ",  -  \n",
            "acumularam  -  Mood=Ind|Number=Plur|Person=3|VerbForm=Fin\n",
            "baixa  -  Gender=Fem|Number=Sing\n",
            "de  -  \n",
            "70  -  NumType=Card\n",
            "%  -  \n",
            "ao  -  Definite=Def|Gender=Masc|Number=Sing|PronType=Art\n",
            "ano  -  Gender=Masc|Number=Sing\n",
            ".  -  \n",
            "Assim  -  \n",
            "já  -  \n",
            "devolveram  -  Mood=Ind|Number=Plur|Person=3|Tense=Past|VerbForm=Fin\n",
            "todos  -  Gender=Masc|Number=Plur|PronType=Tot\n",
            "os  -  Definite=Def|Gender=Masc|Number=Plur|PronType=Art\n",
            "ganhos  -  Gender=Masc|Number=Plur\n",
            "do  -  Definite=Def|Gender=Masc|Number=Sing|PronType=Art\n",
            "período  -  Gender=Masc|Number=Sing\n",
            "da  -  Definite=Def|Gender=Fem|Number=Sing|PronType=Art\n",
            "pandemia  -  Gender=Fem|Number=Sing\n"
          ]
        }
      ],
      "source": [
        "# printa os tokens e a morfologia dele\n",
        "for token in documento:\n",
        "  print(token.text, \" - \", token.morph)"
      ]
    },
    {
      "cell_type": "code",
      "execution_count": 18,
      "metadata": {
        "colab": {
          "base_uri": "https://localhost:8080/"
        },
        "id": "NNGD3oBIBlfm",
        "outputId": "ffb6af35-3982-4b61-8f92-99679e196d9c"
      },
      "outputs": [
        {
          "name": "stdout",
          "output_type": "stream",
          "text": [
            "As  -  DET\n",
            "ações  -  NOUN\n",
            "do  -  ADP\n",
            "Magazine  -  PROPN\n",
            "Luiza  -  PROPN\n",
            "S.A.  -  PROPN\n",
            ",  -  PUNCT\n",
            "Franca  -  PROPN\n",
            ",  -  PUNCT\n",
            "Brasil  -  PROPN\n",
            ",  -  PUNCT\n",
            "acumularam  -  VERB\n",
            "baixa  -  NOUN\n",
            "de  -  ADP\n",
            "70  -  NUM\n",
            "%  -  SYM\n",
            "ao  -  ADP\n",
            "ano  -  NOUN\n",
            ".  -  PUNCT\n",
            "Assim  -  ADV\n",
            "já  -  ADV\n",
            "devolveram  -  VERB\n",
            "todos  -  DET\n",
            "os  -  DET\n",
            "ganhos  -  NOUN\n",
            "do  -  ADP\n",
            "período  -  NOUN\n",
            "da  -  ADP\n",
            "pandemia  -  NOUN\n"
          ]
        }
      ],
      "source": [
        "# printa os tokens e a tag dele\n",
        "for token in documento:\n",
        "  print(token.text, \" - \", token.tag_)"
      ]
    },
    {
      "cell_type": "code",
      "execution_count": 19,
      "metadata": {
        "colab": {
          "base_uri": "https://localhost:8080/"
        },
        "id": "ru3B5khQB4Iu",
        "outputId": "8f123beb-9dfe-48b6-b9c2-94c2e7d53393"
      },
      "outputs": [
        {
          "name": "stdout",
          "output_type": "stream",
          "text": [
            "Magazine Luiza S.A.  -  ORG\n",
            "Franca  -  LOC\n",
            "Brasil  -  LOC\n"
          ]
        }
      ],
      "source": [
        "# Printa todas as entidades nomeadas\n",
        "for ent in documento.ents:\n",
        "  print(ent.text, \" - \", ent.label_)"
      ]
    },
    {
      "cell_type": "code",
      "execution_count": 22,
      "metadata": {
        "colab": {
          "base_uri": "https://localhost:8080/"
        },
        "id": "zknfYZ77Ccvy",
        "outputId": "6a331796-4421-43aa-de3b-222fb33937ac"
      },
      "outputs": [
        {
          "name": "stdout",
          "output_type": "stream",
          "text": [
            "Stop word: As\n",
            "Stop word: do\n",
            "Stop word: de\n",
            "Stop word: ao\n",
            "Stop word: Assim\n",
            "Stop word: já\n",
            "Stop word: todos\n",
            "Stop word: os\n",
            "Stop word: do\n",
            "Stop word: da\n"
          ]
        }
      ],
      "source": [
        "# Printa as stop word\n",
        "for token in documento:\n",
        "  if token.is_stop:\n",
        "    print(\"Stop word:\", token.text)"
      ]
    },
    {
      "cell_type": "code",
      "execution_count": 24,
      "metadata": {
        "colab": {
          "base_uri": "https://localhost:8080/"
        },
        "id": "RmoWyuYew-zz",
        "outputId": "786565a2-5b5e-4780-e3d6-d966b61862f9"
      },
      "outputs": [
        {
          "name": "stdout",
          "output_type": "stream",
          "text": [
            "deste\n",
            "ainda\n",
            "ver\n",
            "cima\n",
            "custa\n",
            "sabe\n",
            "tiveram\n",
            "oitavo\n",
            "uns\n",
            "meu\n",
            "inicio\n",
            "pouco\n",
            "ponto\n",
            "oitava\n",
            "ambos\n",
            "atrás\n",
            "tens\n",
            "cento\n",
            "dezoito\n",
            "até\n",
            "estiveste\n",
            "mais\n",
            "meio\n",
            "pegar\n",
            "for\n",
            "possível\n",
            "vós\n",
            "tempo\n",
            "cuja\n",
            "suas\n",
            "sempre\n",
            "fomos\n",
            "número\n",
            "questão\n",
            "à\n",
            "fazeis\n",
            "números\n",
            "és\n",
            "algo\n",
            "sim\n",
            "conhecido\n",
            "quem\n",
            "fazes\n",
            "muitos\n",
            "das\n",
            "nenhuma\n",
            "aquele\n",
            "nunca\n",
            "dez\n",
            "apoio\n",
            "pouca\n",
            "muito\n",
            "final\n",
            "terceiro\n",
            "esteve\n",
            "três\n",
            "tentar\n",
            "caminho\n",
            "apenas\n",
            "neste\n",
            "um\n",
            "aos\n",
            "treze\n",
            "novos\n",
            "quatro\n",
            "zero\n",
            "lado\n",
            "doze\n",
            "outra\n",
            "diz\n",
            "catorze\n",
            "podem\n",
            "cujo\n",
            "como\n",
            "quando\n",
            "próximo\n",
            "primeira\n",
            "pôde\n",
            "terceira\n",
            "nível\n",
            "corrente\n",
            "faz\n",
            "qualquer\n",
            "dá\n",
            "tais\n",
            "forma\n",
            "eu\n",
            "dão\n",
            "nossa\n",
            "as\n",
            "daquela\n",
            "exemplo\n",
            "disso\n",
            "ir\n",
            "nós\n",
            "nuns\n",
            "num\n",
            "sistema\n",
            "breve\n",
            "esses\n",
            "outras\n",
            "sem\n",
            "isso\n",
            "está\n",
            "contudo\n",
            "certamente\n",
            "embora\n",
            "sobre\n",
            "lugar\n",
            "quarta\n",
            "tendes\n",
            "essas\n",
            "minha\n",
            "também\n",
            "mês\n",
            "aqueles\n",
            "nesse\n",
            "povo\n",
            "só\n",
            "vens\n",
            "posso\n",
            "cá\n",
            "pelos\n",
            "tem\n",
            "assim\n",
            "querem\n",
            "ser\n",
            "tenho\n",
            "tente\n",
            "inclusive\n",
            "que\n",
            "tiveste\n",
            "desse\n",
            "uma\n",
            "dezasseis\n",
            "maioria\n",
            "estou\n",
            "vais\n",
            "logo\n",
            "quais\n",
            "desta\n",
            "talvez\n",
            "estiveram\n",
            "por\n",
            "fazia\n",
            "naquela\n",
            "quieta\n",
            "antes\n",
            "aquelas\n",
            "nossos\n",
            "quinta\n",
            "pelo\n",
            "mas\n",
            "ambas\n",
            "porquanto\n",
            "seu\n",
            "porém\n",
            "vosso\n",
            "já\n",
            "fazem\n",
            "foi\n",
            "outros\n",
            "os\n",
            "são\n",
            "tive\n",
            "aquilo\n",
            "fazemos\n",
            "apontar\n",
            "entre\n",
            "quinze\n",
            "bastante\n",
            "nossas\n",
            "pela\n",
            "põem\n",
            "fim\n",
            "nem\n",
            "todos\n",
            "mal\n",
            "nosso\n",
            "tivestes\n",
            "vezes\n",
            "tuas\n",
            "alguns\n",
            "desde\n",
            "quieto\n",
            "contra\n",
            "tentaram\n",
            "parte\n",
            "iniciar\n",
            "dois\n",
            "novo\n",
            "relação\n",
            "último\n",
            "nove\n",
            "enquanto\n",
            "local\n",
            "quero\n",
            "elas\n",
            "quarto\n",
            "apoia\n",
            "maior\n",
            "pelas\n",
            "falta\n",
            "seus\n",
            "teve\n",
            "nos\n",
            "ligado\n",
            "você\n",
            "vai\n",
            "através\n",
            "partir\n",
            "grupo\n",
            "mil\n",
            "vos\n",
            "sou\n",
            "quinto\n",
            "sua\n",
            "tentei\n",
            "pontos\n",
            "tanta\n",
            "cedo\n",
            "vossos\n",
            "demais\n",
            "estar\n",
            "põe\n",
            "depois\n",
            "tal\n",
            "estava\n",
            "ao\n",
            "pode\n",
            "vêm\n",
            "próprio\n",
            "estivestes\n",
            "comprida\n",
            "do\n",
            "teus\n",
            "esse\n",
            "bem\n",
            "área\n",
            "dos\n",
            "podia\n",
            "o\n",
            "ele\n",
            "adeus\n",
            "grandes\n",
            "deve\n",
            "debaixo\n",
            "em\n",
            "vinte\n",
            "após\n",
            "ter\n",
            "maiorias\n",
            "tarde\n",
            "portanto\n",
            "tanto\n",
            "teu\n",
            "saber\n",
            "usa\n",
            "eventual\n",
            "porquê\n",
            "sois\n",
            "estás\n",
            "tudo\n",
            "grande\n",
            "estão\n",
            "conhecida\n",
            "da\n",
            "dar\n",
            "dessa\n",
            "se\n",
            "te\n",
            "vem\n",
            "esta\n",
            "segunda\n",
            "tu\n",
            "com\n",
            "vinda\n",
            "vindo\n",
            "estive\n",
            "essa\n",
            "parece\n",
            "era\n",
            "nada\n",
            "longe\n",
            "puderam\n",
            "fez\n",
            "onde\n",
            "aí\n",
            "porque\n",
            "tão\n",
            "vossas\n",
            "seria\n",
            "dezanove\n",
            "estado\n",
            "algumas\n",
            "aquela\n",
            "umas\n",
            "lá\n",
            "somente\n",
            "nova\n",
            "somos\n",
            "posição\n",
            "vários\n",
            "boa\n",
            "meus\n",
            "des\n",
            "dizem\n",
            "meses\n",
            "estes\n",
            "segundo\n",
            "poder\n",
            "este\n",
            "deverá\n",
            "faço\n",
            "aqui\n",
            "qual\n",
            "temos\n",
            "sétima\n",
            "agora\n",
            "momento\n",
            "fui\n",
            "foram\n",
            "vez\n",
            "diante\n",
            "não\n",
            "numa\n",
            "tua\n",
            "ora\n",
            "minhas\n",
            "perto\n",
            "estivemos\n",
            "possivelmente\n",
            "isto\n",
            "fostes\n",
            "vão\n",
            "menos\n",
            "fora\n",
            "menor\n",
            "na\n",
            "fará\n",
            "próxima\n",
            "tipo\n",
            "usar\n",
            "de\n",
            "e\n",
            "obrigada\n",
            "novas\n",
            "nas\n",
            "daquele\n",
            "dentro\n",
            "lhe\n",
            "sei\n",
            "sétimo\n",
            "é\n",
            "comprido\n",
            "estas\n",
            "veja\n",
            "seis\n",
            "favor\n",
            "coisa\n",
            "onze\n",
            "valor\n",
            "obrigado\n",
            "cinco\n",
            "têm\n",
            "primeiro\n",
            "ali\n",
            "direita\n",
            "sexta\n",
            "quê\n",
            "sete\n",
            "todas\n",
            "devem\n",
            "estará\n",
            "todo\n",
            "máximo\n",
            "dezassete\n",
            "fazer\n",
            "certeza\n",
            "toda\n",
            "às\n",
            "nesta\n",
            "eles\n",
            "no\n",
            "para\n",
            "naquele\n",
            "bom\n",
            "sob\n",
            "além\n",
            "conselho\n",
            "foste\n",
            "vocês\n",
            "nessa\n",
            "mesmo\n",
            "ela\n",
            "ontem\n",
            "baixo\n",
            "sexto\n",
            "acerca\n",
            "irá\n",
            "oito\n",
            "então\n",
            "quer\n",
            "poderá\n",
            "me\n",
            "vossa\n",
            "pois\n",
            "ou\n",
            "geral\n",
            "quanto\n",
            "dizer\n",
            "tivemos\n",
            "duas\n",
            "ademais\n",
            "a\n",
            "cada\n"
          ]
        }
      ],
      "source": [
        "# Printa todas as stop words que existem no modelo português do spacy\n",
        "for word in nlp.Defaults.stop_words:\n",
        "  print(word)"
      ]
    },
    {
      "cell_type": "code",
      "execution_count": 27,
      "metadata": {
        "colab": {
          "base_uri": "https://localhost:8080/"
        },
        "id": "mqE-Gn9zxWzT",
        "outputId": "d12a1218-cbec-476b-cdb3-2128dc6670f5"
      },
      "outputs": [
        {
          "data": {
            "text/plain": [
              "True"
            ]
          },
          "execution_count": 27,
          "metadata": {},
          "output_type": "execute_result"
        }
      ],
      "source": [
        "nlp.Defaults.stop_words.add(\"bah\") # Adiciona uma stop word\n",
        "nlp.vocab[\"bah\"].is_stop # Verificação"
      ]
    },
    {
      "cell_type": "code",
      "execution_count": 28,
      "metadata": {
        "colab": {
          "base_uri": "https://localhost:8080/"
        },
        "id": "GRO5sfnKxm4s",
        "outputId": "8ab4dfe4-dc21-4442-ea3e-4de1bfe7b5db"
      },
      "outputs": [
        {
          "name": "stdout",
          "output_type": "stream",
          "text": [
            "Tokens:  ['As', 'ações', 'do', 'Magazine', 'Luiza', 'S.A.', ',', 'Franca', ',', 'Brasil', ',', 'acumularam', 'baixa', 'de', '70', '%', 'ao', 'ano', '.', 'Assim', 'já', 'devolveram', 'todos', 'os', 'ganhos', 'do', 'período', 'da', 'pandemia']\n",
            "Tokens sem stop words:  ['ações', 'Magazine', 'Luiza', 'S.A.', ',', 'Franca', ',', 'Brasil', ',', 'acumularam', 'baixa', '70', '%', 'ano', '.', 'devolveram', 'ganhos', 'período', 'pandemia']\n"
          ]
        }
      ],
      "source": [
        "# Cria uma lista vazia e adiciona todos os token do documento\n",
        "token_lista = []\n",
        "for token in documento:\n",
        "  token_lista.append(token.text)\n",
        "\n",
        "# Cria uma lista vazia e adiciona todas as palavras que não são stop words\n",
        "semstop = []\n",
        "for token in documento:\n",
        "  if not token.is_stop:\n",
        "    semstop.append(token.text)\n",
        "\n",
        "# Printa o antes e depois para comparação\n",
        "print(\"Tokens: \", token_lista)\n",
        "print(\"Tokens sem stop words: \", semstop)"
      ]
    },
    {
      "cell_type": "code",
      "execution_count": 32,
      "metadata": {
        "colab": {
          "base_uri": "https://localhost:8080/"
        },
        "id": "Ad7ruRFTyrIi",
        "outputId": "536fc520-fc0c-43a5-a261-befac1b691fc"
      },
      "outputs": [
        {
          "name": "stdout",
          "output_type": "stream",
          "text": [
            "Hash: 6013848609874238634\n",
            "Hash: 6013848609874238634\n",
            "String: dados\n"
          ]
        }
      ],
      "source": [
        "print(\"Hash:\", nlp.vocab.strings[\"dados\"]) # Hash da palavra \"dados\" salva no modelo\n",
        "print(\"Hash:\", documento.vocab.strings[\"dados\"]) # Hash da palavra \"dados\" salva no documento\n",
        "print(\"String:\", nlp.vocab.strings[6013848609874238634]) # Operação inversa"
      ]
    },
    {
      "cell_type": "code",
      "execution_count": 33,
      "metadata": {
        "colab": {
          "base_uri": "https://localhost:8080/"
        },
        "id": "7zOaIl7xzZwm",
        "outputId": "43dee69d-a190-4f62-aa16-da2579d8c4ec"
      },
      "outputs": [
        {
          "name": "stdout",
          "output_type": "stream",
          "text": [
            "dados - 6013848609874238634 - True - True\n"
          ]
        }
      ],
      "source": [
        "lex = nlp.vocab[\"dados\"]\n",
        "print(lex.text, \"-\", lex.orth, \"-\", lex.is_alpha, \"-\", lex.is_lower )"
      ]
    },
    {
      "cell_type": "code",
      "execution_count": 39,
      "metadata": {
        "colab": {
          "base_uri": "https://localhost:8080/"
        },
        "id": "-JK1ooBs0GQB",
        "outputId": "421334bc-4b5d-48b2-9edd-beabfaab12e3"
      },
      "outputs": [
        {
          "name": "stdout",
          "output_type": "stream",
          "text": [
            "(300,)\n",
            "[-1.8078e+00 -2.8421e+00 -5.5345e-01 -4.0565e+00 -2.3565e+00  4.7295e+00\n",
            " -3.3508e+00 -1.2036e+00 -5.3749e+00 -7.5768e-01 -2.0015e+00  5.3618e+00\n",
            "  2.2789e-01  1.2136e+00 -1.4418e+00 -3.0621e+00  2.2060e+00  1.1943e+00\n",
            " -1.8689e+00 -5.9128e+00 -5.1929e-01  2.1897e+00 -2.4651e+00  1.7600e+00\n",
            " -5.6308e+00  1.0053e+00  7.3080e-01  2.0417e-01 -6.0370e+00  1.7474e+00\n",
            "  2.0375e+00  2.7541e+00 -1.0423e+00  1.7632e+00 -1.4484e+00 -2.4344e+00\n",
            " -8.6094e-01  1.7867e+00 -4.9920e+00 -3.1162e+00 -5.3973e-01  2.4241e+00\n",
            "  4.4410e-01 -4.7503e+00  2.1383e+00  3.8537e-01 -2.2418e+00  5.8104e+00\n",
            " -1.1731e+00  2.4686e-02 -1.8413e+00 -5.9321e+00 -7.0872e-03 -2.3093e+00\n",
            "  5.5101e+00 -4.1795e-01  2.9754e+00  3.6709e-01 -8.0867e-01 -1.3751e+00\n",
            "  4.8132e+00 -2.2835e+00 -2.0920e-01  1.2578e+00  4.3466e+00  1.3846e+00\n",
            " -1.5847e+00  3.3322e+00 -4.3669e+00  1.8883e+00 -1.2312e+00  3.7902e-01\n",
            "  8.6331e-01 -4.0607e+00 -1.3444e+00  4.5210e+00  2.2995e-01 -5.9245e+00\n",
            " -2.0598e-01 -3.1810e+00 -3.8640e+00  7.2114e+00  3.1034e+00 -4.2856e+00\n",
            "  5.4147e+00 -7.2224e+00  4.3610e+00 -2.6696e+00  1.9245e+00 -2.6187e+00\n",
            " -5.1742e+00  1.0513e-01  1.9628e+00  1.0356e+00  6.8692e+00 -7.3888e-01\n",
            "  3.8783e+00  4.1958e+00 -8.8872e+00 -1.8452e+00  5.2786e+00  4.2920e+00\n",
            " -4.2204e-01  1.0009e+00  4.2165e-01  1.1927e+00 -8.4580e-01 -2.6577e+00\n",
            "  1.5024e+00  4.4229e-01 -2.5251e+00 -7.1781e-01  7.0878e-01  1.7207e+00\n",
            "  3.8369e+00 -1.5924e+00  2.0870e+00  4.3324e-01 -1.0600e+00  2.7058e+00\n",
            "  1.3282e+00 -7.1241e+00 -1.3663e+00 -3.0763e+00  2.7714e+00  1.3094e+00\n",
            "  1.6072e+00  3.6821e+00  5.3843e+00 -3.5457e-02 -2.9616e+00  1.5253e+00\n",
            "  2.0812e-01  6.0771e-01 -5.5709e-01  7.5687e+00 -9.1431e-01 -3.0477e+00\n",
            "  1.2046e+00  5.3871e-01  5.7112e-01  2.2039e+00 -5.1948e-02 -2.6353e+00\n",
            " -2.8517e+00  1.8675e-01  2.1013e+00  7.5272e-01 -8.7856e+00 -1.4493e+00\n",
            " -7.9085e-01 -1.6936e+00  1.4793e-02 -9.9357e+00  3.7818e+00 -1.7839e+00\n",
            "  1.5425e+00 -3.0899e-02 -5.1442e+00  4.2366e-01  3.2065e+00  3.9226e+00\n",
            " -1.4392e-02  1.5862e+00  7.0632e+00  7.5689e+00 -3.4420e+00 -6.1376e+00\n",
            "  5.0851e-01 -6.3689e-01 -1.8791e-01  1.9850e+00  3.0888e+00 -3.0506e+00\n",
            "  1.1851e-01 -1.2290e+00  7.6061e+00  1.8492e-01 -2.7509e+00 -1.3448e+00\n",
            "  1.9857e+00 -2.4650e+00 -2.0810e+00  5.6084e+00 -7.3379e-01  1.1205e+00\n",
            "  1.3258e-02 -7.0243e-01  1.0118e+00  3.8903e+00 -1.2631e+00 -2.7544e+00\n",
            "  9.3134e-01  2.7516e+00 -1.6767e+00  4.5501e+00 -4.9452e-01  1.0644e+00\n",
            " -1.2653e+00  3.9671e-01 -6.4705e+00 -7.7726e-01 -3.9283e+00  7.9536e+00\n",
            "  2.0967e+00  1.2104e+00  3.4474e+00 -2.2200e+00 -4.9974e+00  3.1827e-01\n",
            " -1.0450e+00 -2.1353e+00  1.0529e+00 -1.6568e+00 -3.0012e+00  4.2834e+00\n",
            "  6.9626e-01  4.5401e+00 -1.7153e-01 -5.9982e-01  3.6147e+00 -3.4545e+00\n",
            "  3.6811e-01 -4.1399e+00 -1.8144e+00  2.9088e+00  8.9164e-01 -2.4783e+00\n",
            " -3.6413e+00 -3.4140e-01 -8.0959e-01 -4.7451e+00  4.2487e+00  6.6012e+00\n",
            " -5.1022e+00  1.5260e+00  3.5160e+00 -1.4569e+00  1.4442e+00  6.8183e+00\n",
            " -5.0775e+00  1.0688e+00  4.8081e+00  3.6586e+00 -3.0766e+00 -8.5266e-01\n",
            " -3.3401e+00 -5.2864e+00 -9.1773e-01 -1.8197e+00  2.0192e+00 -6.7857e+00\n",
            " -3.6542e+00 -3.4654e+00  3.3276e+00  9.0340e-02 -3.0743e+00  3.3329e+00\n",
            " -2.6458e+00  2.6557e-02 -4.7538e-01  2.7974e+00  5.3304e+00  2.9937e+00\n",
            "  3.8899e+00 -3.3433e+00 -3.4940e+00  2.1821e+00  8.1387e+00  3.5272e-01\n",
            "  4.8159e+00 -7.8327e-01 -1.2468e+00  5.9163e+00 -6.0636e-02 -4.3255e-01\n",
            " -1.2690e+00 -3.2938e+00  3.2941e-02 -9.3676e-01 -7.1630e-01  1.4011e+00\n",
            "  1.8334e+00 -1.4261e+00 -1.9903e+00 -1.4721e+00  2.1466e+00 -2.0949e+00\n",
            " -7.6855e-01 -2.8615e+00 -2.0466e+00  7.1870e-01 -1.1195e+00 -3.1117e+00\n",
            "  1.5789e-01 -4.0320e+00 -9.2665e-01 -6.2468e-01 -2.7397e+00  6.0866e-01]\n"
          ]
        }
      ],
      "source": [
        "# Cada palavra possui um vetor que possui 300 pesos que representam a relação da palavra com as outras\n",
        "print(nlp(\"dados\").vector.shape)\n",
        "print(nlp(\"dados\").vector)"
      ]
    },
    {
      "cell_type": "code",
      "execution_count": 40,
      "metadata": {
        "colab": {
          "base_uri": "https://localhost:8080/"
        },
        "id": "880zaMBf0eB2",
        "outputId": "b8166984-bd96-4cbe-dc49-9daba04ca97b"
      },
      "outputs": [
        {
          "name": "stdout",
          "output_type": "stream",
          "text": [
            "0.8806809782981873\n"
          ]
        }
      ],
      "source": [
        "# Importante lembrar que a similaridade no spacy é baseada por contexto, retorna um valor entre zero e um\n",
        "documento1 = nlp(\"Ele viaja regurlamente de carro\")\n",
        "documento2 = nlp(\"Ela viaja regurlamente de avião\")\n",
        "print(documento1.similarity(documento2)) # mostra a similaridade entre o documento 1 e 2 (0 - 1)"
      ]
    },
    {
      "cell_type": "code",
      "execution_count": 43,
      "metadata": {
        "colab": {
          "base_uri": "https://localhost:8080/"
        },
        "id": "f-DSGqe52elZ",
        "outputId": "4fdf0ce4-5bfe-4944-f4bf-0290466dfe73"
      },
      "outputs": [
        {
          "name": "stdout",
          "output_type": "stream",
          "text": [
            "comprimento\n",
            "cumprimento\n",
            "0.5804340243339539\n"
          ]
        }
      ],
      "source": [
        "documento3 = nlp(\"Devemos dizer comprimento ou cumprimento\")\n",
        "tokenA = documento3[2]\n",
        "print(tokenA)\n",
        "tokenB = documento3[4]\n",
        "print(tokenB)\n",
        "print(tokenA.similarity(tokenB)) # Similaridade entre tokens"
      ]
    },
    {
      "cell_type": "code",
      "execution_count": null,
      "metadata": {
        "colab": {
          "base_uri": "https://localhost:8080/"
        },
        "id": "5EGGx-2f3AIE",
        "outputId": "e42cc553-7af2-434a-efa4-05a897a184cf"
      },
      "outputs": [
        {
          "name": "stdout",
          "output_type": "stream",
          "text": [
            "(22) - 22222222\n",
            "(22) 22222222\n"
          ]
        }
      ],
      "source": [
        "# matcher é usado para encontrar padrões dentro de texto\n",
        "from spacy.matcher import Matcher # Importação do matcher\n",
        "\n",
        "documento5 = nlp(\"Você pode ligar para (22) - 22222222 ou (22) 22222222\")\n",
        "matcher = Matcher(nlp.vocab)\n",
        "padrao = [{\"ORTH\":\"(\"},{\"SHAPE\":\"dd\"},{\"ORTH\":\")\"},{\"ORTH\":\"-\",\"OP\":\"?\"},{\"IS_DIGIT\":True}] # Criação de um padrão\n",
        "matcher.add(\"telefone\",[padrao]) # Adição do padrão\n",
        "matches = matcher(documento5) # busca e salvamento do padrão\n",
        "for id, inicio, fim in matches: # Printando onde achou\n",
        "  print(documento5[inicio:fim])"
      ]
    },
    {
      "cell_type": "code",
      "execution_count": 53,
      "metadata": {
        "colab": {
          "base_uri": "https://localhost:8080/"
        },
        "id": "kfs2l4gM5SaQ",
        "outputId": "7afa2abb-57d4-4cb9-d84f-837b110ba3d2"
      },
      "outputs": [
        {
          "name": "stdout",
          "output_type": "stream",
          "text": [
            "micro organismos\n",
            "MICROORGANISMOS\n",
            "micro-organismos\n"
          ]
        }
      ],
      "source": [
        "documento6 = nlp(\"Estamos infectados com micro organismos. MICROORGANISMOS são perigosos. Não exergamos micro-organismos\")\n",
        "# Criação de 3 padrões\n",
        "padrao1 = [{\"LOWER\": \"micro-organismos\"}]\n",
        "padrao2 = [{\"LOWER\": \"microorganismos\"}]\n",
        "padrao3 = [{\"LOWER\": \"micro\"}, {\"LOWER\": \"organismos\"}]\n",
        "matcher.add(\"microorganismos\",[padrao1,padrao2,padrao3]) # Adição dos padrões\n",
        "matches = matcher(documento6) # busca e salvamento dos padrões\n",
        "for id, inicio, fim in matches: # Printando onde achou\n",
        "  print(documento6[inicio:fim])"
      ]
    },
    {
      "cell_type": "code",
      "execution_count": 60,
      "metadata": {
        "colab": {
          "base_uri": "https://localhost:8080/",
          "height": 439
        },
        "id": "MpA2JXMu6fT_",
        "outputId": "11a8e452-3126-42cc-9033-9c52f70081b3"
      },
      "outputs": [
        {
          "data": {
            "text/html": [
              "<span class=\"tex2jax_ignore\"><h2 style=\"margin: 0\">Título</h2>\n",
              "\n",
              "<div class=\"entities\" style=\"line-height: 2.5; direction: ltr\">As ações do \n",
              "<mark class=\"entity\" style=\"background: #7aecec; padding: 0.45em 0.6em; margin: 0 0.25em; line-height: 1; border-radius: 0.35em;\">\n",
              "    Magazine Luiza S.A.\n",
              "    <span style=\"font-size: 0.8em; font-weight: bold; line-height: 1; border-radius: 0.35em; vertical-align: middle; margin-left: 0.5rem\">ORG</span>\n",
              "</mark>\n",
              ", \n",
              "<mark class=\"entity\" style=\"background: #ff9561; padding: 0.45em 0.6em; margin: 0 0.25em; line-height: 1; border-radius: 0.35em;\">\n",
              "    Franca\n",
              "    <span style=\"font-size: 0.8em; font-weight: bold; line-height: 1; border-radius: 0.35em; vertical-align: middle; margin-left: 0.5rem\">LOC</span>\n",
              "</mark>\n",
              ", \n",
              "<mark class=\"entity\" style=\"background: #ff9561; padding: 0.45em 0.6em; margin: 0 0.25em; line-height: 1; border-radius: 0.35em;\">\n",
              "    Brasil\n",
              "    <span style=\"font-size: 0.8em; font-weight: bold; line-height: 1; border-radius: 0.35em; vertical-align: middle; margin-left: 0.5rem\">LOC</span>\n",
              "</mark>\n",
              ", acumularam baixa de 70% ao ano. Assim já devolveram todos os ganhos do período da pandemia</div></span>"
            ],
            "text/plain": [
              "<IPython.core.display.HTML object>"
            ]
          },
          "metadata": {},
          "output_type": "display_data"
        },
        {
          "data": {
            "text/html": [
              "<span class=\"tex2jax_ignore\"><svg xmlns=\"http://www.w3.org/2000/svg\" xmlns:xlink=\"http://www.w3.org/1999/xlink\" xml:lang=\"pt\" id=\"ae3aeb53f1ee465fb586380db6d8563f-0\" class=\"displacy\" width=\"1970\" height=\"337.0\" direction=\"ltr\" style=\"max-width: none; height: 337.0px; color: #0000FF; background: #FFFFFF; font-family: Arial; direction: ltr\">\n",
              "<text class=\"displacy-token\" fill=\"currentColor\" text-anchor=\"middle\" y=\"247.0\">\n",
              "    <tspan class=\"displacy-word\" fill=\"currentColor\" x=\"50\">As</tspan>\n",
              "    <tspan class=\"displacy-tag\" dy=\"2em\" fill=\"currentColor\" x=\"50\">DET</tspan>\n",
              "</text>\n",
              "\n",
              "<text class=\"displacy-token\" fill=\"currentColor\" text-anchor=\"middle\" y=\"247.0\">\n",
              "    <tspan class=\"displacy-word\" fill=\"currentColor\" x=\"130\">ações</tspan>\n",
              "    <tspan class=\"displacy-tag\" dy=\"2em\" fill=\"currentColor\" x=\"130\">NOUN</tspan>\n",
              "</text>\n",
              "\n",
              "<text class=\"displacy-token\" fill=\"currentColor\" text-anchor=\"middle\" y=\"247.0\">\n",
              "    <tspan class=\"displacy-word\" fill=\"currentColor\" x=\"210\">do</tspan>\n",
              "    <tspan class=\"displacy-tag\" dy=\"2em\" fill=\"currentColor\" x=\"210\">ADP</tspan>\n",
              "</text>\n",
              "\n",
              "<text class=\"displacy-token\" fill=\"currentColor\" text-anchor=\"middle\" y=\"247.0\">\n",
              "    <tspan class=\"displacy-word\" fill=\"currentColor\" x=\"290\">Magazine</tspan>\n",
              "    <tspan class=\"displacy-tag\" dy=\"2em\" fill=\"currentColor\" x=\"290\">PROPN</tspan>\n",
              "</text>\n",
              "\n",
              "<text class=\"displacy-token\" fill=\"currentColor\" text-anchor=\"middle\" y=\"247.0\">\n",
              "    <tspan class=\"displacy-word\" fill=\"currentColor\" x=\"370\">Luiza</tspan>\n",
              "    <tspan class=\"displacy-tag\" dy=\"2em\" fill=\"currentColor\" x=\"370\">PROPN</tspan>\n",
              "</text>\n",
              "\n",
              "<text class=\"displacy-token\" fill=\"currentColor\" text-anchor=\"middle\" y=\"247.0\">\n",
              "    <tspan class=\"displacy-word\" fill=\"currentColor\" x=\"450\">S.A.,</tspan>\n",
              "    <tspan class=\"displacy-tag\" dy=\"2em\" fill=\"currentColor\" x=\"450\">PROPN</tspan>\n",
              "</text>\n",
              "\n",
              "<text class=\"displacy-token\" fill=\"currentColor\" text-anchor=\"middle\" y=\"247.0\">\n",
              "    <tspan class=\"displacy-word\" fill=\"currentColor\" x=\"530\">Franca,</tspan>\n",
              "    <tspan class=\"displacy-tag\" dy=\"2em\" fill=\"currentColor\" x=\"530\">PROPN</tspan>\n",
              "</text>\n",
              "\n",
              "<text class=\"displacy-token\" fill=\"currentColor\" text-anchor=\"middle\" y=\"247.0\">\n",
              "    <tspan class=\"displacy-word\" fill=\"currentColor\" x=\"610\">Brasil,</tspan>\n",
              "    <tspan class=\"displacy-tag\" dy=\"2em\" fill=\"currentColor\" x=\"610\">PROPN</tspan>\n",
              "</text>\n",
              "\n",
              "<text class=\"displacy-token\" fill=\"currentColor\" text-anchor=\"middle\" y=\"247.0\">\n",
              "    <tspan class=\"displacy-word\" fill=\"currentColor\" x=\"690\">acumularam</tspan>\n",
              "    <tspan class=\"displacy-tag\" dy=\"2em\" fill=\"currentColor\" x=\"690\">VERB</tspan>\n",
              "</text>\n",
              "\n",
              "<text class=\"displacy-token\" fill=\"currentColor\" text-anchor=\"middle\" y=\"247.0\">\n",
              "    <tspan class=\"displacy-word\" fill=\"currentColor\" x=\"770\">baixa</tspan>\n",
              "    <tspan class=\"displacy-tag\" dy=\"2em\" fill=\"currentColor\" x=\"770\">NOUN</tspan>\n",
              "</text>\n",
              "\n",
              "<text class=\"displacy-token\" fill=\"currentColor\" text-anchor=\"middle\" y=\"247.0\">\n",
              "    <tspan class=\"displacy-word\" fill=\"currentColor\" x=\"850\">de</tspan>\n",
              "    <tspan class=\"displacy-tag\" dy=\"2em\" fill=\"currentColor\" x=\"850\">ADP</tspan>\n",
              "</text>\n",
              "\n",
              "<text class=\"displacy-token\" fill=\"currentColor\" text-anchor=\"middle\" y=\"247.0\">\n",
              "    <tspan class=\"displacy-word\" fill=\"currentColor\" x=\"930\">70%</tspan>\n",
              "    <tspan class=\"displacy-tag\" dy=\"2em\" fill=\"currentColor\" x=\"930\">SYM</tspan>\n",
              "</text>\n",
              "\n",
              "<text class=\"displacy-token\" fill=\"currentColor\" text-anchor=\"middle\" y=\"247.0\">\n",
              "    <tspan class=\"displacy-word\" fill=\"currentColor\" x=\"1010\">ao</tspan>\n",
              "    <tspan class=\"displacy-tag\" dy=\"2em\" fill=\"currentColor\" x=\"1010\">ADP</tspan>\n",
              "</text>\n",
              "\n",
              "<text class=\"displacy-token\" fill=\"currentColor\" text-anchor=\"middle\" y=\"247.0\">\n",
              "    <tspan class=\"displacy-word\" fill=\"currentColor\" x=\"1090\">ano.</tspan>\n",
              "    <tspan class=\"displacy-tag\" dy=\"2em\" fill=\"currentColor\" x=\"1090\">NOUN</tspan>\n",
              "</text>\n",
              "\n",
              "<text class=\"displacy-token\" fill=\"currentColor\" text-anchor=\"middle\" y=\"247.0\">\n",
              "    <tspan class=\"displacy-word\" fill=\"currentColor\" x=\"1170\">Assim</tspan>\n",
              "    <tspan class=\"displacy-tag\" dy=\"2em\" fill=\"currentColor\" x=\"1170\">ADV</tspan>\n",
              "</text>\n",
              "\n",
              "<text class=\"displacy-token\" fill=\"currentColor\" text-anchor=\"middle\" y=\"247.0\">\n",
              "    <tspan class=\"displacy-word\" fill=\"currentColor\" x=\"1250\">já</tspan>\n",
              "    <tspan class=\"displacy-tag\" dy=\"2em\" fill=\"currentColor\" x=\"1250\">ADV</tspan>\n",
              "</text>\n",
              "\n",
              "<text class=\"displacy-token\" fill=\"currentColor\" text-anchor=\"middle\" y=\"247.0\">\n",
              "    <tspan class=\"displacy-word\" fill=\"currentColor\" x=\"1330\">devolveram</tspan>\n",
              "    <tspan class=\"displacy-tag\" dy=\"2em\" fill=\"currentColor\" x=\"1330\">VERB</tspan>\n",
              "</text>\n",
              "\n",
              "<text class=\"displacy-token\" fill=\"currentColor\" text-anchor=\"middle\" y=\"247.0\">\n",
              "    <tspan class=\"displacy-word\" fill=\"currentColor\" x=\"1410\">todos</tspan>\n",
              "    <tspan class=\"displacy-tag\" dy=\"2em\" fill=\"currentColor\" x=\"1410\">DET</tspan>\n",
              "</text>\n",
              "\n",
              "<text class=\"displacy-token\" fill=\"currentColor\" text-anchor=\"middle\" y=\"247.0\">\n",
              "    <tspan class=\"displacy-word\" fill=\"currentColor\" x=\"1490\">os</tspan>\n",
              "    <tspan class=\"displacy-tag\" dy=\"2em\" fill=\"currentColor\" x=\"1490\">DET</tspan>\n",
              "</text>\n",
              "\n",
              "<text class=\"displacy-token\" fill=\"currentColor\" text-anchor=\"middle\" y=\"247.0\">\n",
              "    <tspan class=\"displacy-word\" fill=\"currentColor\" x=\"1570\">ganhos</tspan>\n",
              "    <tspan class=\"displacy-tag\" dy=\"2em\" fill=\"currentColor\" x=\"1570\">NOUN</tspan>\n",
              "</text>\n",
              "\n",
              "<text class=\"displacy-token\" fill=\"currentColor\" text-anchor=\"middle\" y=\"247.0\">\n",
              "    <tspan class=\"displacy-word\" fill=\"currentColor\" x=\"1650\">do</tspan>\n",
              "    <tspan class=\"displacy-tag\" dy=\"2em\" fill=\"currentColor\" x=\"1650\">ADP</tspan>\n",
              "</text>\n",
              "\n",
              "<text class=\"displacy-token\" fill=\"currentColor\" text-anchor=\"middle\" y=\"247.0\">\n",
              "    <tspan class=\"displacy-word\" fill=\"currentColor\" x=\"1730\">período</tspan>\n",
              "    <tspan class=\"displacy-tag\" dy=\"2em\" fill=\"currentColor\" x=\"1730\">NOUN</tspan>\n",
              "</text>\n",
              "\n",
              "<text class=\"displacy-token\" fill=\"currentColor\" text-anchor=\"middle\" y=\"247.0\">\n",
              "    <tspan class=\"displacy-word\" fill=\"currentColor\" x=\"1810\">da</tspan>\n",
              "    <tspan class=\"displacy-tag\" dy=\"2em\" fill=\"currentColor\" x=\"1810\">ADP</tspan>\n",
              "</text>\n",
              "\n",
              "<text class=\"displacy-token\" fill=\"currentColor\" text-anchor=\"middle\" y=\"247.0\">\n",
              "    <tspan class=\"displacy-word\" fill=\"currentColor\" x=\"1890\">pandemia</tspan>\n",
              "    <tspan class=\"displacy-tag\" dy=\"2em\" fill=\"currentColor\" x=\"1890\">NOUN</tspan>\n",
              "</text>\n",
              "\n",
              "<g class=\"displacy-arrow\">\n",
              "    <path class=\"displacy-arc\" id=\"arrow-ae3aeb53f1ee465fb586380db6d8563f-0-0\" stroke-width=\"2px\" d=\"M62,202.0 62,188.66666666666666 118.0,188.66666666666666 118.0,202.0\" fill=\"none\" stroke=\"currentColor\"/>\n",
              "    <text dy=\"1.25em\" style=\"font-size: 0.8em; letter-spacing: 1px\">\n",
              "        <textPath xlink:href=\"#arrow-ae3aeb53f1ee465fb586380db6d8563f-0-0\" class=\"displacy-label\" startOffset=\"50%\" side=\"left\" fill=\"currentColor\" text-anchor=\"middle\">det</textPath>\n",
              "    </text>\n",
              "    <path class=\"displacy-arrowhead\" d=\"M62,204.0 L58,196.0 66,196.0\" fill=\"currentColor\"/>\n",
              "</g>\n",
              "\n",
              "<g class=\"displacy-arrow\">\n",
              "    <path class=\"displacy-arc\" id=\"arrow-ae3aeb53f1ee465fb586380db6d8563f-0-1\" stroke-width=\"2px\" d=\"M142,202.0 142,135.33333333333331 690.0,135.33333333333331 690.0,202.0\" fill=\"none\" stroke=\"currentColor\"/>\n",
              "    <text dy=\"1.25em\" style=\"font-size: 0.8em; letter-spacing: 1px\">\n",
              "        <textPath xlink:href=\"#arrow-ae3aeb53f1ee465fb586380db6d8563f-0-1\" class=\"displacy-label\" startOffset=\"50%\" side=\"left\" fill=\"currentColor\" text-anchor=\"middle\">nsubj</textPath>\n",
              "    </text>\n",
              "    <path class=\"displacy-arrowhead\" d=\"M142,204.0 L138,196.0 146,196.0\" fill=\"currentColor\"/>\n",
              "</g>\n",
              "\n",
              "<g class=\"displacy-arrow\">\n",
              "    <path class=\"displacy-arc\" id=\"arrow-ae3aeb53f1ee465fb586380db6d8563f-0-2\" stroke-width=\"2px\" d=\"M222,202.0 222,188.66666666666666 278.0,188.66666666666666 278.0,202.0\" fill=\"none\" stroke=\"currentColor\"/>\n",
              "    <text dy=\"1.25em\" style=\"font-size: 0.8em; letter-spacing: 1px\">\n",
              "        <textPath xlink:href=\"#arrow-ae3aeb53f1ee465fb586380db6d8563f-0-2\" class=\"displacy-label\" startOffset=\"50%\" side=\"left\" fill=\"currentColor\" text-anchor=\"middle\">case</textPath>\n",
              "    </text>\n",
              "    <path class=\"displacy-arrowhead\" d=\"M222,204.0 L218,196.0 226,196.0\" fill=\"currentColor\"/>\n",
              "</g>\n",
              "\n",
              "<g class=\"displacy-arrow\">\n",
              "    <path class=\"displacy-arc\" id=\"arrow-ae3aeb53f1ee465fb586380db6d8563f-0-3\" stroke-width=\"2px\" d=\"M142,202.0 142,175.33333333333334 281.0,175.33333333333334 281.0,202.0\" fill=\"none\" stroke=\"currentColor\"/>\n",
              "    <text dy=\"1.25em\" style=\"font-size: 0.8em; letter-spacing: 1px\">\n",
              "        <textPath xlink:href=\"#arrow-ae3aeb53f1ee465fb586380db6d8563f-0-3\" class=\"displacy-label\" startOffset=\"50%\" side=\"left\" fill=\"currentColor\" text-anchor=\"middle\">nmod</textPath>\n",
              "    </text>\n",
              "    <path class=\"displacy-arrowhead\" d=\"M281.0,204.0 L285.0,196.0 277.0,196.0\" fill=\"currentColor\"/>\n",
              "</g>\n",
              "\n",
              "<g class=\"displacy-arrow\">\n",
              "    <path class=\"displacy-arc\" id=\"arrow-ae3aeb53f1ee465fb586380db6d8563f-0-4\" stroke-width=\"2px\" d=\"M302,202.0 302,188.66666666666666 358.0,188.66666666666666 358.0,202.0\" fill=\"none\" stroke=\"currentColor\"/>\n",
              "    <text dy=\"1.25em\" style=\"font-size: 0.8em; letter-spacing: 1px\">\n",
              "        <textPath xlink:href=\"#arrow-ae3aeb53f1ee465fb586380db6d8563f-0-4\" class=\"displacy-label\" startOffset=\"50%\" side=\"left\" fill=\"currentColor\" text-anchor=\"middle\">flat:name</textPath>\n",
              "    </text>\n",
              "    <path class=\"displacy-arrowhead\" d=\"M358.0,204.0 L362.0,196.0 354.0,196.0\" fill=\"currentColor\"/>\n",
              "</g>\n",
              "\n",
              "<g class=\"displacy-arrow\">\n",
              "    <path class=\"displacy-arc\" id=\"arrow-ae3aeb53f1ee465fb586380db6d8563f-0-5\" stroke-width=\"2px\" d=\"M302,202.0 302,175.33333333333334 441.0,175.33333333333334 441.0,202.0\" fill=\"none\" stroke=\"currentColor\"/>\n",
              "    <text dy=\"1.25em\" style=\"font-size: 0.8em; letter-spacing: 1px\">\n",
              "        <textPath xlink:href=\"#arrow-ae3aeb53f1ee465fb586380db6d8563f-0-5\" class=\"displacy-label\" startOffset=\"50%\" side=\"left\" fill=\"currentColor\" text-anchor=\"middle\">flat:name</textPath>\n",
              "    </text>\n",
              "    <path class=\"displacy-arrowhead\" d=\"M441.0,204.0 L445.0,196.0 437.0,196.0\" fill=\"currentColor\"/>\n",
              "</g>\n",
              "\n",
              "<g class=\"displacy-arrow\">\n",
              "    <path class=\"displacy-arc\" id=\"arrow-ae3aeb53f1ee465fb586380db6d8563f-0-6\" stroke-width=\"2px\" d=\"M302,202.0 302,162.0 524.0,162.0 524.0,202.0\" fill=\"none\" stroke=\"currentColor\"/>\n",
              "    <text dy=\"1.25em\" style=\"font-size: 0.8em; letter-spacing: 1px\">\n",
              "        <textPath xlink:href=\"#arrow-ae3aeb53f1ee465fb586380db6d8563f-0-6\" class=\"displacy-label\" startOffset=\"50%\" side=\"left\" fill=\"currentColor\" text-anchor=\"middle\">conj</textPath>\n",
              "    </text>\n",
              "    <path class=\"displacy-arrowhead\" d=\"M524.0,204.0 L528.0,196.0 520.0,196.0\" fill=\"currentColor\"/>\n",
              "</g>\n",
              "\n",
              "<g class=\"displacy-arrow\">\n",
              "    <path class=\"displacy-arc\" id=\"arrow-ae3aeb53f1ee465fb586380db6d8563f-0-7\" stroke-width=\"2px\" d=\"M302,202.0 302,148.66666666666666 607.0,148.66666666666666 607.0,202.0\" fill=\"none\" stroke=\"currentColor\"/>\n",
              "    <text dy=\"1.25em\" style=\"font-size: 0.8em; letter-spacing: 1px\">\n",
              "        <textPath xlink:href=\"#arrow-ae3aeb53f1ee465fb586380db6d8563f-0-7\" class=\"displacy-label\" startOffset=\"50%\" side=\"left\" fill=\"currentColor\" text-anchor=\"middle\">conj</textPath>\n",
              "    </text>\n",
              "    <path class=\"displacy-arrowhead\" d=\"M607.0,204.0 L611.0,196.0 603.0,196.0\" fill=\"currentColor\"/>\n",
              "</g>\n",
              "\n",
              "<g class=\"displacy-arrow\">\n",
              "    <path class=\"displacy-arc\" id=\"arrow-ae3aeb53f1ee465fb586380db6d8563f-0-8\" stroke-width=\"2px\" d=\"M702,202.0 702,188.66666666666666 758.0,188.66666666666666 758.0,202.0\" fill=\"none\" stroke=\"currentColor\"/>\n",
              "    <text dy=\"1.25em\" style=\"font-size: 0.8em; letter-spacing: 1px\">\n",
              "        <textPath xlink:href=\"#arrow-ae3aeb53f1ee465fb586380db6d8563f-0-8\" class=\"displacy-label\" startOffset=\"50%\" side=\"left\" fill=\"currentColor\" text-anchor=\"middle\">obj</textPath>\n",
              "    </text>\n",
              "    <path class=\"displacy-arrowhead\" d=\"M758.0,204.0 L762.0,196.0 754.0,196.0\" fill=\"currentColor\"/>\n",
              "</g>\n",
              "\n",
              "<g class=\"displacy-arrow\">\n",
              "    <path class=\"displacy-arc\" id=\"arrow-ae3aeb53f1ee465fb586380db6d8563f-0-9\" stroke-width=\"2px\" d=\"M862,202.0 862,188.66666666666666 918.0,188.66666666666666 918.0,202.0\" fill=\"none\" stroke=\"currentColor\"/>\n",
              "    <text dy=\"1.25em\" style=\"font-size: 0.8em; letter-spacing: 1px\">\n",
              "        <textPath xlink:href=\"#arrow-ae3aeb53f1ee465fb586380db6d8563f-0-9\" class=\"displacy-label\" startOffset=\"50%\" side=\"left\" fill=\"currentColor\" text-anchor=\"middle\">case</textPath>\n",
              "    </text>\n",
              "    <path class=\"displacy-arrowhead\" d=\"M862,204.0 L858,196.0 866,196.0\" fill=\"currentColor\"/>\n",
              "</g>\n",
              "\n",
              "<g class=\"displacy-arrow\">\n",
              "    <path class=\"displacy-arc\" id=\"arrow-ae3aeb53f1ee465fb586380db6d8563f-0-10\" stroke-width=\"2px\" d=\"M782,202.0 782,175.33333333333334 921.0,175.33333333333334 921.0,202.0\" fill=\"none\" stroke=\"currentColor\"/>\n",
              "    <text dy=\"1.25em\" style=\"font-size: 0.8em; letter-spacing: 1px\">\n",
              "        <textPath xlink:href=\"#arrow-ae3aeb53f1ee465fb586380db6d8563f-0-10\" class=\"displacy-label\" startOffset=\"50%\" side=\"left\" fill=\"currentColor\" text-anchor=\"middle\">nmod</textPath>\n",
              "    </text>\n",
              "    <path class=\"displacy-arrowhead\" d=\"M921.0,204.0 L925.0,196.0 917.0,196.0\" fill=\"currentColor\"/>\n",
              "</g>\n",
              "\n",
              "<g class=\"displacy-arrow\">\n",
              "    <path class=\"displacy-arc\" id=\"arrow-ae3aeb53f1ee465fb586380db6d8563f-0-11\" stroke-width=\"2px\" d=\"M1022,202.0 1022,188.66666666666666 1078.0,188.66666666666666 1078.0,202.0\" fill=\"none\" stroke=\"currentColor\"/>\n",
              "    <text dy=\"1.25em\" style=\"font-size: 0.8em; letter-spacing: 1px\">\n",
              "        <textPath xlink:href=\"#arrow-ae3aeb53f1ee465fb586380db6d8563f-0-11\" class=\"displacy-label\" startOffset=\"50%\" side=\"left\" fill=\"currentColor\" text-anchor=\"middle\">case</textPath>\n",
              "    </text>\n",
              "    <path class=\"displacy-arrowhead\" d=\"M1022,204.0 L1018,196.0 1026,196.0\" fill=\"currentColor\"/>\n",
              "</g>\n",
              "\n",
              "<g class=\"displacy-arrow\">\n",
              "    <path class=\"displacy-arc\" id=\"arrow-ae3aeb53f1ee465fb586380db6d8563f-0-12\" stroke-width=\"2px\" d=\"M782,202.0 782,162.0 1084.0,162.0 1084.0,202.0\" fill=\"none\" stroke=\"currentColor\"/>\n",
              "    <text dy=\"1.25em\" style=\"font-size: 0.8em; letter-spacing: 1px\">\n",
              "        <textPath xlink:href=\"#arrow-ae3aeb53f1ee465fb586380db6d8563f-0-12\" class=\"displacy-label\" startOffset=\"50%\" side=\"left\" fill=\"currentColor\" text-anchor=\"middle\">nmod</textPath>\n",
              "    </text>\n",
              "    <path class=\"displacy-arrowhead\" d=\"M1084.0,204.0 L1088.0,196.0 1080.0,196.0\" fill=\"currentColor\"/>\n",
              "</g>\n",
              "\n",
              "<g class=\"displacy-arrow\">\n",
              "    <path class=\"displacy-arc\" id=\"arrow-ae3aeb53f1ee465fb586380db6d8563f-0-13\" stroke-width=\"2px\" d=\"M1182,202.0 1182,175.33333333333334 1321.0,175.33333333333334 1321.0,202.0\" fill=\"none\" stroke=\"currentColor\"/>\n",
              "    <text dy=\"1.25em\" style=\"font-size: 0.8em; letter-spacing: 1px\">\n",
              "        <textPath xlink:href=\"#arrow-ae3aeb53f1ee465fb586380db6d8563f-0-13\" class=\"displacy-label\" startOffset=\"50%\" side=\"left\" fill=\"currentColor\" text-anchor=\"middle\">mark</textPath>\n",
              "    </text>\n",
              "    <path class=\"displacy-arrowhead\" d=\"M1182,204.0 L1178,196.0 1186,196.0\" fill=\"currentColor\"/>\n",
              "</g>\n",
              "\n",
              "<g class=\"displacy-arrow\">\n",
              "    <path class=\"displacy-arc\" id=\"arrow-ae3aeb53f1ee465fb586380db6d8563f-0-14\" stroke-width=\"2px\" d=\"M1262,202.0 1262,188.66666666666666 1318.0,188.66666666666666 1318.0,202.0\" fill=\"none\" stroke=\"currentColor\"/>\n",
              "    <text dy=\"1.25em\" style=\"font-size: 0.8em; letter-spacing: 1px\">\n",
              "        <textPath xlink:href=\"#arrow-ae3aeb53f1ee465fb586380db6d8563f-0-14\" class=\"displacy-label\" startOffset=\"50%\" side=\"left\" fill=\"currentColor\" text-anchor=\"middle\">advmod</textPath>\n",
              "    </text>\n",
              "    <path class=\"displacy-arrowhead\" d=\"M1262,204.0 L1258,196.0 1266,196.0\" fill=\"currentColor\"/>\n",
              "</g>\n",
              "\n",
              "<g class=\"displacy-arrow\">\n",
              "    <path class=\"displacy-arc\" id=\"arrow-ae3aeb53f1ee465fb586380db6d8563f-0-15\" stroke-width=\"2px\" d=\"M1422,202.0 1422,175.33333333333334 1561.0,175.33333333333334 1561.0,202.0\" fill=\"none\" stroke=\"currentColor\"/>\n",
              "    <text dy=\"1.25em\" style=\"font-size: 0.8em; letter-spacing: 1px\">\n",
              "        <textPath xlink:href=\"#arrow-ae3aeb53f1ee465fb586380db6d8563f-0-15\" class=\"displacy-label\" startOffset=\"50%\" side=\"left\" fill=\"currentColor\" text-anchor=\"middle\">det</textPath>\n",
              "    </text>\n",
              "    <path class=\"displacy-arrowhead\" d=\"M1422,204.0 L1418,196.0 1426,196.0\" fill=\"currentColor\"/>\n",
              "</g>\n",
              "\n",
              "<g class=\"displacy-arrow\">\n",
              "    <path class=\"displacy-arc\" id=\"arrow-ae3aeb53f1ee465fb586380db6d8563f-0-16\" stroke-width=\"2px\" d=\"M1422,202.0 1422,188.66666666666666 1478.0,188.66666666666666 1478.0,202.0\" fill=\"none\" stroke=\"currentColor\"/>\n",
              "    <text dy=\"1.25em\" style=\"font-size: 0.8em; letter-spacing: 1px\">\n",
              "        <textPath xlink:href=\"#arrow-ae3aeb53f1ee465fb586380db6d8563f-0-16\" class=\"displacy-label\" startOffset=\"50%\" side=\"left\" fill=\"currentColor\" text-anchor=\"middle\">fixed</textPath>\n",
              "    </text>\n",
              "    <path class=\"displacy-arrowhead\" d=\"M1478.0,204.0 L1482.0,196.0 1474.0,196.0\" fill=\"currentColor\"/>\n",
              "</g>\n",
              "\n",
              "<g class=\"displacy-arrow\">\n",
              "    <path class=\"displacy-arc\" id=\"arrow-ae3aeb53f1ee465fb586380db6d8563f-0-17\" stroke-width=\"2px\" d=\"M1342,202.0 1342,162.0 1564.0,162.0 1564.0,202.0\" fill=\"none\" stroke=\"currentColor\"/>\n",
              "    <text dy=\"1.25em\" style=\"font-size: 0.8em; letter-spacing: 1px\">\n",
              "        <textPath xlink:href=\"#arrow-ae3aeb53f1ee465fb586380db6d8563f-0-17\" class=\"displacy-label\" startOffset=\"50%\" side=\"left\" fill=\"currentColor\" text-anchor=\"middle\">obj</textPath>\n",
              "    </text>\n",
              "    <path class=\"displacy-arrowhead\" d=\"M1564.0,204.0 L1568.0,196.0 1560.0,196.0\" fill=\"currentColor\"/>\n",
              "</g>\n",
              "\n",
              "<g class=\"displacy-arrow\">\n",
              "    <path class=\"displacy-arc\" id=\"arrow-ae3aeb53f1ee465fb586380db6d8563f-0-18\" stroke-width=\"2px\" d=\"M1662,202.0 1662,188.66666666666666 1718.0,188.66666666666666 1718.0,202.0\" fill=\"none\" stroke=\"currentColor\"/>\n",
              "    <text dy=\"1.25em\" style=\"font-size: 0.8em; letter-spacing: 1px\">\n",
              "        <textPath xlink:href=\"#arrow-ae3aeb53f1ee465fb586380db6d8563f-0-18\" class=\"displacy-label\" startOffset=\"50%\" side=\"left\" fill=\"currentColor\" text-anchor=\"middle\">case</textPath>\n",
              "    </text>\n",
              "    <path class=\"displacy-arrowhead\" d=\"M1662,204.0 L1658,196.0 1666,196.0\" fill=\"currentColor\"/>\n",
              "</g>\n",
              "\n",
              "<g class=\"displacy-arrow\">\n",
              "    <path class=\"displacy-arc\" id=\"arrow-ae3aeb53f1ee465fb586380db6d8563f-0-19\" stroke-width=\"2px\" d=\"M1582,202.0 1582,175.33333333333334 1721.0,175.33333333333334 1721.0,202.0\" fill=\"none\" stroke=\"currentColor\"/>\n",
              "    <text dy=\"1.25em\" style=\"font-size: 0.8em; letter-spacing: 1px\">\n",
              "        <textPath xlink:href=\"#arrow-ae3aeb53f1ee465fb586380db6d8563f-0-19\" class=\"displacy-label\" startOffset=\"50%\" side=\"left\" fill=\"currentColor\" text-anchor=\"middle\">nmod</textPath>\n",
              "    </text>\n",
              "    <path class=\"displacy-arrowhead\" d=\"M1721.0,204.0 L1725.0,196.0 1717.0,196.0\" fill=\"currentColor\"/>\n",
              "</g>\n",
              "\n",
              "<g class=\"displacy-arrow\">\n",
              "    <path class=\"displacy-arc\" id=\"arrow-ae3aeb53f1ee465fb586380db6d8563f-0-20\" stroke-width=\"2px\" d=\"M1822,202.0 1822,188.66666666666666 1878.0,188.66666666666666 1878.0,202.0\" fill=\"none\" stroke=\"currentColor\"/>\n",
              "    <text dy=\"1.25em\" style=\"font-size: 0.8em; letter-spacing: 1px\">\n",
              "        <textPath xlink:href=\"#arrow-ae3aeb53f1ee465fb586380db6d8563f-0-20\" class=\"displacy-label\" startOffset=\"50%\" side=\"left\" fill=\"currentColor\" text-anchor=\"middle\">case</textPath>\n",
              "    </text>\n",
              "    <path class=\"displacy-arrowhead\" d=\"M1822,204.0 L1818,196.0 1826,196.0\" fill=\"currentColor\"/>\n",
              "</g>\n",
              "\n",
              "<g class=\"displacy-arrow\">\n",
              "    <path class=\"displacy-arc\" id=\"arrow-ae3aeb53f1ee465fb586380db6d8563f-0-21\" stroke-width=\"2px\" d=\"M1742,202.0 1742,175.33333333333334 1881.0,175.33333333333334 1881.0,202.0\" fill=\"none\" stroke=\"currentColor\"/>\n",
              "    <text dy=\"1.25em\" style=\"font-size: 0.8em; letter-spacing: 1px\">\n",
              "        <textPath xlink:href=\"#arrow-ae3aeb53f1ee465fb586380db6d8563f-0-21\" class=\"displacy-label\" startOffset=\"50%\" side=\"left\" fill=\"currentColor\" text-anchor=\"middle\">nmod</textPath>\n",
              "    </text>\n",
              "    <path class=\"displacy-arrowhead\" d=\"M1881.0,204.0 L1885.0,196.0 1877.0,196.0\" fill=\"currentColor\"/>\n",
              "</g>\n",
              "</svg></span>"
            ],
            "text/plain": [
              "<IPython.core.display.HTML object>"
            ]
          },
          "metadata": {},
          "output_type": "display_data"
        }
      ],
      "source": [
        "# Displacy é o modulo do spacy para visualização\n",
        "from spacy import displacy # importação do displacy\n",
        "documento.user_data[\"title\"] = \"Título\" # Titulo do documento\n",
        "displacy.render(documento, style=\"ent\", jupyter=True) # visualização do documento com as entidades (jupyter = True indica que está sendo renderizado em um arquivo .ipynb)\n",
        "displacy.render(documento, style=\"dep\", jupyter=True, options={'compact':True, 'distance': 80, 'color':'#0000FF', 'bg':'#FFFFFF'})\n",
        "# visualização do documento com as dependencias, compact = diminui o tamanho, distance = diminui a distancia entre as dependencias, color = cor das linhas, bg = cor do fundo"
      ]
    },
    {
      "cell_type": "code",
      "execution_count": 66,
      "metadata": {
        "colab": {
          "base_uri": "https://localhost:8080/"
        },
        "id": "Dhcmx5wH773f",
        "outputId": "7d4b872a-dc01-4c81-d79f-c0a4644a1905"
      },
      "outputs": [
        {
          "name": "stdout",
          "output_type": "stream",
          "text": [
            "Pipeline padrão: ['tok2vec', 'morphologizer', 'parser', 'lemmatizer', 'attribute_ruler', 'ner']\n",
            "Pipeline: ['tok2vec', 'morphologizer', 'parser', 'lemmatizer', 'attribute_ruler']\n",
            "Pipeline: ['tok2vec', 'morphologizer', 'parser', 'lemmatizer', 'attribute_ruler', 'ner']\n"
          ]
        }
      ],
      "source": [
        "print(\"Pipeline padrão:\", nlp.pipe_names) # printa o pipeline padrão\n",
        "nlp.remove_pipe(\"ner\") # remove a parte do ner\n",
        "print(\"Pipeline:\", nlp.pipe_names) # printa o pipeline atualizado\n",
        "nlp.add_pipe(\"ner\", last=True) # adiciona a parte do ner\n",
        "print(\"Pipeline:\", nlp.pipe_names) # printa o pipeline atualizado"
      ]
    }
  ],
  "metadata": {
    "accelerator": "GPU",
    "colab": {
      "gpuType": "T4",
      "provenance": []
    },
    "kernelspec": {
      "display_name": "Python 3",
      "name": "python3"
    },
    "language_info": {
      "name": "python"
    }
  },
  "nbformat": 4,
  "nbformat_minor": 0
}
