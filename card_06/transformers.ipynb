{
  "cells": [
    {
      "cell_type": "code",
      "execution_count": 2,
      "metadata": {
        "colab": {
          "base_uri": "https://localhost:8080/"
        },
        "id": "r47Mwghq2ozL",
        "outputId": "4eeca341-121a-4d2e-e7c3-0c11b4eed670"
      },
      "outputs": [
        {
          "name": "stdout",
          "output_type": "stream",
          "text": [
            "[' ', '!', 'a', 'c', 'd', 'e', 'f', 'h', 'j', 'm', 'n', 'o', 'p', 'r', 's', 't', 'v', 'á', 'ê']\n",
            "Tamanho do seu vocabulário >>  19\n"
          ]
        }
      ],
      "source": [
        "# Montando o vocabulário\n",
        "texto = 'hoje você está focado em aprender!'\n",
        "caracteres = sorted(list(set(texto)))\n",
        "print(caracteres)\n",
        "print('Tamanho do seu vocabulário >> ', len(caracteres))"
      ]
    },
    {
      "cell_type": "code",
      "execution_count": 6,
      "metadata": {
        "colab": {
          "base_uri": "https://localhost:8080/"
        },
        "id": "9U6A43WeHf_u",
        "outputId": "4929af0f-3292-464d-d612-669253c87501"
      },
      "outputs": [
        {
          "data": {
            "text/plain": [
              "{' ': 0,\n",
              " '!': 1,\n",
              " 'a': 2,\n",
              " 'c': 3,\n",
              " 'd': 4,\n",
              " 'e': 5,\n",
              " 'f': 6,\n",
              " 'h': 7,\n",
              " 'j': 8,\n",
              " 'm': 9,\n",
              " 'n': 10,\n",
              " 'o': 11,\n",
              " 'p': 12,\n",
              " 'r': 13,\n",
              " 's': 14,\n",
              " 't': 15,\n",
              " 'v': 16,\n",
              " 'á': 17,\n",
              " 'ê': 18}"
            ]
          },
          "execution_count": 6,
          "metadata": {},
          "output_type": "execute_result"
        }
      ],
      "source": [
        "letraParaIndex = {lt:i for i, lt in enumerate(caracteres)} # Convertendo índex para cada letra\n",
        "letraParaIndex"
      ]
    },
    {
      "cell_type": "code",
      "execution_count": 10,
      "metadata": {
        "colab": {
          "base_uri": "https://localhost:8080/"
        },
        "id": "rQ0odjDFIK_U",
        "outputId": "78bf421f-9023-4c9d-b904-56a04772db5c"
      },
      "outputs": [
        {
          "name": "stdout",
          "output_type": "stream",
          "text": [
            "[7, 11, 8, 5, 0, 16, 11, 3, 18, 0, 5, 14, 15, 17, 0, 6, 11, 3, 2, 4, 11, 0, 5, 9, 0, 2, 12, 13, 5, 10, 4, 5, 13, 1]\n"
          ]
        }
      ],
      "source": [
        "encode = lambda s: [letraParaIndex[c] for c in s] # encoder\n",
        "print(encode(texto)) # printando o texto codificado"
      ]
    },
    {
      "cell_type": "code",
      "execution_count": 11,
      "metadata": {
        "colab": {
          "base_uri": "https://localhost:8080/"
        },
        "id": "h2nHdFkMIeIV",
        "outputId": "942eb626-451d-49d5-9d10-46adfd3b7473"
      },
      "outputs": [
        {
          "data": {
            "text/plain": [
              "{0: ' ',\n",
              " 1: '!',\n",
              " 2: 'a',\n",
              " 3: 'c',\n",
              " 4: 'd',\n",
              " 5: 'e',\n",
              " 6: 'f',\n",
              " 7: 'h',\n",
              " 8: 'j',\n",
              " 9: 'm',\n",
              " 10: 'n',\n",
              " 11: 'o',\n",
              " 12: 'p',\n",
              " 13: 'r',\n",
              " 14: 's',\n",
              " 15: 't',\n",
              " 16: 'v',\n",
              " 17: 'á',\n",
              " 18: 'ê'}"
            ]
          },
          "execution_count": 11,
          "metadata": {},
          "output_type": "execute_result"
        }
      ],
      "source": [
        "indexParaLetra = {i:lt for lt, i in letraParaIndex.items()} # Convertendo letra para cada índex\n",
        "indexParaLetra"
      ]
    },
    {
      "cell_type": "code",
      "execution_count": 12,
      "metadata": {
        "colab": {
          "base_uri": "https://localhost:8080/"
        },
        "id": "6-g3FgDjIwwC",
        "outputId": "5f3f2fe2-8a64-4e4b-e9ba-c26b5d40c7ae"
      },
      "outputs": [
        {
          "name": "stdout",
          "output_type": "stream",
          "text": [
            "hoje você está focado em aprender!\n"
          ]
        }
      ],
      "source": [
        "decode = lambda l: ''.join([indexParaLetra[i] for i in l]) # decoder\n",
        "print(decode(encode(texto))) # printando o texto decodificado"
      ]
    },
    {
      "cell_type": "code",
      "execution_count": 13,
      "metadata": {
        "id": "sj1g_kEKIzYV"
      },
      "outputs": [],
      "source": [
        "# Importações necessárias\n",
        "import pandas as pd\n",
        "import numpy as np"
      ]
    },
    {
      "cell_type": "code",
      "execution_count": null,
      "metadata": {
        "colab": {
          "base_uri": "https://localhost:8080/",
          "height": 125
        },
        "id": "xxNijjpAI-lT",
        "outputId": "afe7f229-bc09-449e-a487-55b2492ea902"
      },
      "outputs": [
        {
          "data": {
            "application/vnd.google.colaboratory.intrinsic+json": {
              "summary": "{\n  \"name\": \"texto\",\n  \"rows\": 2,\n  \"fields\": [\n    {\n      \"column\": \"texto\",\n      \"properties\": {\n        \"dtype\": \"string\",\n        \"num_unique_values\": 2,\n        \"samples\": [\n          \"voc\\u00ea est\\u00e1 focado em fazer algo hoje\",\n          \"hoje voc\\u00ea est\\u00e1 focado em aprender!\"\n        ],\n        \"semantic_type\": \"\",\n        \"description\": \"\"\n      }\n    }\n  ]\n}",
              "type": "dataframe",
              "variable_name": "texto"
            },
            "text/html": [
              "\n",
              "  <div id=\"df-dac6523b-d834-41bb-85f7-4b14917fc181\" class=\"colab-df-container\">\n",
              "    <div>\n",
              "<style scoped>\n",
              "    .dataframe tbody tr th:only-of-type {\n",
              "        vertical-align: middle;\n",
              "    }\n",
              "\n",
              "    .dataframe tbody tr th {\n",
              "        vertical-align: top;\n",
              "    }\n",
              "\n",
              "    .dataframe thead th {\n",
              "        text-align: right;\n",
              "    }\n",
              "</style>\n",
              "<table border=\"1\" class=\"dataframe\">\n",
              "  <thead>\n",
              "    <tr style=\"text-align: right;\">\n",
              "      <th></th>\n",
              "      <th>texto</th>\n",
              "    </tr>\n",
              "  </thead>\n",
              "  <tbody>\n",
              "    <tr>\n",
              "      <th>0</th>\n",
              "      <td>hoje você está focado em aprender!</td>\n",
              "    </tr>\n",
              "    <tr>\n",
              "      <th>1</th>\n",
              "      <td>você está focado em fazer algo hoje</td>\n",
              "    </tr>\n",
              "  </tbody>\n",
              "</table>\n",
              "</div>\n",
              "    <div class=\"colab-df-buttons\">\n",
              "\n",
              "  <div class=\"colab-df-container\">\n",
              "    <button class=\"colab-df-convert\" onclick=\"convertToInteractive('df-dac6523b-d834-41bb-85f7-4b14917fc181')\"\n",
              "            title=\"Convert this dataframe to an interactive table.\"\n",
              "            style=\"display:none;\">\n",
              "\n",
              "  <svg xmlns=\"http://www.w3.org/2000/svg\" height=\"24px\" viewBox=\"0 -960 960 960\">\n",
              "    <path d=\"M120-120v-720h720v720H120Zm60-500h600v-160H180v160Zm220 220h160v-160H400v160Zm0 220h160v-160H400v160ZM180-400h160v-160H180v160Zm440 0h160v-160H620v160ZM180-180h160v-160H180v160Zm440 0h160v-160H620v160Z\"/>\n",
              "  </svg>\n",
              "    </button>\n",
              "\n",
              "  <style>\n",
              "    .colab-df-container {\n",
              "      display:flex;\n",
              "      gap: 12px;\n",
              "    }\n",
              "\n",
              "    .colab-df-convert {\n",
              "      background-color: #E8F0FE;\n",
              "      border: none;\n",
              "      border-radius: 50%;\n",
              "      cursor: pointer;\n",
              "      display: none;\n",
              "      fill: #1967D2;\n",
              "      height: 32px;\n",
              "      padding: 0 0 0 0;\n",
              "      width: 32px;\n",
              "    }\n",
              "\n",
              "    .colab-df-convert:hover {\n",
              "      background-color: #E2EBFA;\n",
              "      box-shadow: 0px 1px 2px rgba(60, 64, 67, 0.3), 0px 1px 3px 1px rgba(60, 64, 67, 0.15);\n",
              "      fill: #174EA6;\n",
              "    }\n",
              "\n",
              "    .colab-df-buttons div {\n",
              "      margin-bottom: 4px;\n",
              "    }\n",
              "\n",
              "    [theme=dark] .colab-df-convert {\n",
              "      background-color: #3B4455;\n",
              "      fill: #D2E3FC;\n",
              "    }\n",
              "\n",
              "    [theme=dark] .colab-df-convert:hover {\n",
              "      background-color: #434B5C;\n",
              "      box-shadow: 0px 1px 3px 1px rgba(0, 0, 0, 0.15);\n",
              "      filter: drop-shadow(0px 1px 2px rgba(0, 0, 0, 0.3));\n",
              "      fill: #FFFFFF;\n",
              "    }\n",
              "  </style>\n",
              "\n",
              "    <script>\n",
              "      const buttonEl =\n",
              "        document.querySelector('#df-dac6523b-d834-41bb-85f7-4b14917fc181 button.colab-df-convert');\n",
              "      buttonEl.style.display =\n",
              "        google.colab.kernel.accessAllowed ? 'block' : 'none';\n",
              "\n",
              "      async function convertToInteractive(key) {\n",
              "        const element = document.querySelector('#df-dac6523b-d834-41bb-85f7-4b14917fc181');\n",
              "        const dataTable =\n",
              "          await google.colab.kernel.invokeFunction('convertToInteractive',\n",
              "                                                    [key], {});\n",
              "        if (!dataTable) return;\n",
              "\n",
              "        const docLinkHtml = 'Like what you see? Visit the ' +\n",
              "          '<a target=\"_blank\" href=https://colab.research.google.com/notebooks/data_table.ipynb>data table notebook</a>'\n",
              "          + ' to learn more about interactive tables.';\n",
              "        element.innerHTML = '';\n",
              "        dataTable['output_type'] = 'display_data';\n",
              "        await google.colab.output.renderOutput(dataTable, element);\n",
              "        const docLink = document.createElement('div');\n",
              "        docLink.innerHTML = docLinkHtml;\n",
              "        element.appendChild(docLink);\n",
              "      }\n",
              "    </script>\n",
              "  </div>\n",
              "\n",
              "\n",
              "<div id=\"df-7f834ab7-37bb-42d5-becf-dcf846771314\">\n",
              "  <button class=\"colab-df-quickchart\" onclick=\"quickchart('df-7f834ab7-37bb-42d5-becf-dcf846771314')\"\n",
              "            title=\"Suggest charts\"\n",
              "            style=\"display:none;\">\n",
              "\n",
              "<svg xmlns=\"http://www.w3.org/2000/svg\" height=\"24px\"viewBox=\"0 0 24 24\"\n",
              "     width=\"24px\">\n",
              "    <g>\n",
              "        <path d=\"M19 3H5c-1.1 0-2 .9-2 2v14c0 1.1.9 2 2 2h14c1.1 0 2-.9 2-2V5c0-1.1-.9-2-2-2zM9 17H7v-7h2v7zm4 0h-2V7h2v10zm4 0h-2v-4h2v4z\"/>\n",
              "    </g>\n",
              "</svg>\n",
              "  </button>\n",
              "\n",
              "<style>\n",
              "  .colab-df-quickchart {\n",
              "      --bg-color: #E8F0FE;\n",
              "      --fill-color: #1967D2;\n",
              "      --hover-bg-color: #E2EBFA;\n",
              "      --hover-fill-color: #174EA6;\n",
              "      --disabled-fill-color: #AAA;\n",
              "      --disabled-bg-color: #DDD;\n",
              "  }\n",
              "\n",
              "  [theme=dark] .colab-df-quickchart {\n",
              "      --bg-color: #3B4455;\n",
              "      --fill-color: #D2E3FC;\n",
              "      --hover-bg-color: #434B5C;\n",
              "      --hover-fill-color: #FFFFFF;\n",
              "      --disabled-bg-color: #3B4455;\n",
              "      --disabled-fill-color: #666;\n",
              "  }\n",
              "\n",
              "  .colab-df-quickchart {\n",
              "    background-color: var(--bg-color);\n",
              "    border: none;\n",
              "    border-radius: 50%;\n",
              "    cursor: pointer;\n",
              "    display: none;\n",
              "    fill: var(--fill-color);\n",
              "    height: 32px;\n",
              "    padding: 0;\n",
              "    width: 32px;\n",
              "  }\n",
              "\n",
              "  .colab-df-quickchart:hover {\n",
              "    background-color: var(--hover-bg-color);\n",
              "    box-shadow: 0 1px 2px rgba(60, 64, 67, 0.3), 0 1px 3px 1px rgba(60, 64, 67, 0.15);\n",
              "    fill: var(--button-hover-fill-color);\n",
              "  }\n",
              "\n",
              "  .colab-df-quickchart-complete:disabled,\n",
              "  .colab-df-quickchart-complete:disabled:hover {\n",
              "    background-color: var(--disabled-bg-color);\n",
              "    fill: var(--disabled-fill-color);\n",
              "    box-shadow: none;\n",
              "  }\n",
              "\n",
              "  .colab-df-spinner {\n",
              "    border: 2px solid var(--fill-color);\n",
              "    border-color: transparent;\n",
              "    border-bottom-color: var(--fill-color);\n",
              "    animation:\n",
              "      spin 1s steps(1) infinite;\n",
              "  }\n",
              "\n",
              "  @keyframes spin {\n",
              "    0% {\n",
              "      border-color: transparent;\n",
              "      border-bottom-color: var(--fill-color);\n",
              "      border-left-color: var(--fill-color);\n",
              "    }\n",
              "    20% {\n",
              "      border-color: transparent;\n",
              "      border-left-color: var(--fill-color);\n",
              "      border-top-color: var(--fill-color);\n",
              "    }\n",
              "    30% {\n",
              "      border-color: transparent;\n",
              "      border-left-color: var(--fill-color);\n",
              "      border-top-color: var(--fill-color);\n",
              "      border-right-color: var(--fill-color);\n",
              "    }\n",
              "    40% {\n",
              "      border-color: transparent;\n",
              "      border-right-color: var(--fill-color);\n",
              "      border-top-color: var(--fill-color);\n",
              "    }\n",
              "    60% {\n",
              "      border-color: transparent;\n",
              "      border-right-color: var(--fill-color);\n",
              "    }\n",
              "    80% {\n",
              "      border-color: transparent;\n",
              "      border-right-color: var(--fill-color);\n",
              "      border-bottom-color: var(--fill-color);\n",
              "    }\n",
              "    90% {\n",
              "      border-color: transparent;\n",
              "      border-bottom-color: var(--fill-color);\n",
              "    }\n",
              "  }\n",
              "</style>\n",
              "\n",
              "  <script>\n",
              "    async function quickchart(key) {\n",
              "      const quickchartButtonEl =\n",
              "        document.querySelector('#' + key + ' button');\n",
              "      quickchartButtonEl.disabled = true;  // To prevent multiple clicks.\n",
              "      quickchartButtonEl.classList.add('colab-df-spinner');\n",
              "      try {\n",
              "        const charts = await google.colab.kernel.invokeFunction(\n",
              "            'suggestCharts', [key], {});\n",
              "      } catch (error) {\n",
              "        console.error('Error during call to suggestCharts:', error);\n",
              "      }\n",
              "      quickchartButtonEl.classList.remove('colab-df-spinner');\n",
              "      quickchartButtonEl.classList.add('colab-df-quickchart-complete');\n",
              "    }\n",
              "    (() => {\n",
              "      let quickchartButtonEl =\n",
              "        document.querySelector('#df-7f834ab7-37bb-42d5-becf-dcf846771314 button');\n",
              "      quickchartButtonEl.style.display =\n",
              "        google.colab.kernel.accessAllowed ? 'block' : 'none';\n",
              "    })();\n",
              "  </script>\n",
              "</div>\n",
              "\n",
              "  <div id=\"id_bb17c3f7-0f00-4ddf-a5fb-7c1bdd6a9ea4\">\n",
              "    <style>\n",
              "      .colab-df-generate {\n",
              "        background-color: #E8F0FE;\n",
              "        border: none;\n",
              "        border-radius: 50%;\n",
              "        cursor: pointer;\n",
              "        display: none;\n",
              "        fill: #1967D2;\n",
              "        height: 32px;\n",
              "        padding: 0 0 0 0;\n",
              "        width: 32px;\n",
              "      }\n",
              "\n",
              "      .colab-df-generate:hover {\n",
              "        background-color: #E2EBFA;\n",
              "        box-shadow: 0px 1px 2px rgba(60, 64, 67, 0.3), 0px 1px 3px 1px rgba(60, 64, 67, 0.15);\n",
              "        fill: #174EA6;\n",
              "      }\n",
              "\n",
              "      [theme=dark] .colab-df-generate {\n",
              "        background-color: #3B4455;\n",
              "        fill: #D2E3FC;\n",
              "      }\n",
              "\n",
              "      [theme=dark] .colab-df-generate:hover {\n",
              "        background-color: #434B5C;\n",
              "        box-shadow: 0px 1px 3px 1px rgba(0, 0, 0, 0.15);\n",
              "        filter: drop-shadow(0px 1px 2px rgba(0, 0, 0, 0.3));\n",
              "        fill: #FFFFFF;\n",
              "      }\n",
              "    </style>\n",
              "    <button class=\"colab-df-generate\" onclick=\"generateWithVariable('texto')\"\n",
              "            title=\"Generate code using this dataframe.\"\n",
              "            style=\"display:none;\">\n",
              "\n",
              "  <svg xmlns=\"http://www.w3.org/2000/svg\" height=\"24px\"viewBox=\"0 0 24 24\"\n",
              "       width=\"24px\">\n",
              "    <path d=\"M7,19H8.4L18.45,9,17,7.55,7,17.6ZM5,21V16.75L18.45,3.32a2,2,0,0,1,2.83,0l1.4,1.43a1.91,1.91,0,0,1,.58,1.4,1.91,1.91,0,0,1-.58,1.4L9.25,21ZM18.45,9,17,7.55Zm-12,3A5.31,5.31,0,0,0,4.9,8.1,5.31,5.31,0,0,0,1,6.5,5.31,5.31,0,0,0,4.9,4.9,5.31,5.31,0,0,0,6.5,1,5.31,5.31,0,0,0,8.1,4.9,5.31,5.31,0,0,0,12,6.5,5.46,5.46,0,0,0,6.5,12Z\"/>\n",
              "  </svg>\n",
              "    </button>\n",
              "    <script>\n",
              "      (() => {\n",
              "      const buttonEl =\n",
              "        document.querySelector('#id_bb17c3f7-0f00-4ddf-a5fb-7c1bdd6a9ea4 button.colab-df-generate');\n",
              "      buttonEl.style.display =\n",
              "        google.colab.kernel.accessAllowed ? 'block' : 'none';\n",
              "\n",
              "      buttonEl.onclick = () => {\n",
              "        google.colab.notebook.generateWithVariable('texto');\n",
              "      }\n",
              "      })();\n",
              "    </script>\n",
              "  </div>\n",
              "\n",
              "    </div>\n",
              "  </div>\n"
            ],
            "text/plain": [
              "                                 texto\n",
              "0   hoje você está focado em aprender!\n",
              "1  você está focado em fazer algo hoje"
            ]
          },
          "execution_count": 18,
          "metadata": {},
          "output_type": "execute_result"
        }
      ],
      "source": [
        "texto = {'texto': ['hoje você está focado em aprender!', 'você está focado em fazer algo hoje']}\n",
        "texto = pd.DataFrame(texto)\n",
        "texto"
      ]
    },
    {
      "cell_type": "code",
      "execution_count": 20,
      "metadata": {
        "colab": {
          "base_uri": "https://localhost:8080/",
          "height": 112
        },
        "id": "ZqGX7Fm1JMJp",
        "outputId": "ad870a0d-c898-4667-f1a0-7a64893e9919"
      },
      "outputs": [
        {
          "data": {
            "application/vnd.google.colaboratory.intrinsic+json": {
              "summary": "{\n  \"name\": \"texto[\\\"texto\\\"]\",\n  \"rows\": 2,\n  \"fields\": [\n    {\n      \"column\": \"algo\",\n      \"properties\": {\n        \"dtype\": \"number\",\n        \"std\": 0,\n        \"min\": 0,\n        \"max\": 1,\n        \"num_unique_values\": 2,\n        \"samples\": [\n          1,\n          0\n        ],\n        \"semantic_type\": \"\",\n        \"description\": \"\"\n      }\n    },\n    {\n      \"column\": \"aprender!\",\n      \"properties\": {\n        \"dtype\": \"number\",\n        \"std\": 0,\n        \"min\": 0,\n        \"max\": 1,\n        \"num_unique_values\": 2,\n        \"samples\": [\n          0,\n          1\n        ],\n        \"semantic_type\": \"\",\n        \"description\": \"\"\n      }\n    },\n    {\n      \"column\": \"em\",\n      \"properties\": {\n        \"dtype\": \"number\",\n        \"std\": 0,\n        \"min\": 1,\n        \"max\": 1,\n        \"num_unique_values\": 1,\n        \"samples\": [\n          1\n        ],\n        \"semantic_type\": \"\",\n        \"description\": \"\"\n      }\n    },\n    {\n      \"column\": \"est\\u00e1\",\n      \"properties\": {\n        \"dtype\": \"number\",\n        \"std\": 0,\n        \"min\": 1,\n        \"max\": 1,\n        \"num_unique_values\": 1,\n        \"samples\": [\n          1\n        ],\n        \"semantic_type\": \"\",\n        \"description\": \"\"\n      }\n    },\n    {\n      \"column\": \"fazer\",\n      \"properties\": {\n        \"dtype\": \"number\",\n        \"std\": 0,\n        \"min\": 0,\n        \"max\": 1,\n        \"num_unique_values\": 2,\n        \"samples\": [\n          1\n        ],\n        \"semantic_type\": \"\",\n        \"description\": \"\"\n      }\n    },\n    {\n      \"column\": \"focado\",\n      \"properties\": {\n        \"dtype\": \"number\",\n        \"std\": 0,\n        \"min\": 1,\n        \"max\": 1,\n        \"num_unique_values\": 1,\n        \"samples\": [\n          1\n        ],\n        \"semantic_type\": \"\",\n        \"description\": \"\"\n      }\n    },\n    {\n      \"column\": \"hoje\",\n      \"properties\": {\n        \"dtype\": \"number\",\n        \"std\": 0,\n        \"min\": 1,\n        \"max\": 1,\n        \"num_unique_values\": 1,\n        \"samples\": [\n          1\n        ],\n        \"semantic_type\": \"\",\n        \"description\": \"\"\n      }\n    },\n    {\n      \"column\": \"voc\\u00ea\",\n      \"properties\": {\n        \"dtype\": \"number\",\n        \"std\": 0,\n        \"min\": 1,\n        \"max\": 1,\n        \"num_unique_values\": 1,\n        \"samples\": [\n          1\n        ],\n        \"semantic_type\": \"\",\n        \"description\": \"\"\n      }\n    }\n  ]\n}",
              "type": "dataframe"
            },
            "text/html": [
              "\n",
              "  <div id=\"df-5ec11c62-2ff9-4f5c-80fd-c91a96b5b606\" class=\"colab-df-container\">\n",
              "    <div>\n",
              "<style scoped>\n",
              "    .dataframe tbody tr th:only-of-type {\n",
              "        vertical-align: middle;\n",
              "    }\n",
              "\n",
              "    .dataframe tbody tr th {\n",
              "        vertical-align: top;\n",
              "    }\n",
              "\n",
              "    .dataframe thead th {\n",
              "        text-align: right;\n",
              "    }\n",
              "</style>\n",
              "<table border=\"1\" class=\"dataframe\">\n",
              "  <thead>\n",
              "    <tr style=\"text-align: right;\">\n",
              "      <th></th>\n",
              "      <th>algo</th>\n",
              "      <th>aprender!</th>\n",
              "      <th>em</th>\n",
              "      <th>está</th>\n",
              "      <th>fazer</th>\n",
              "      <th>focado</th>\n",
              "      <th>hoje</th>\n",
              "      <th>você</th>\n",
              "    </tr>\n",
              "  </thead>\n",
              "  <tbody>\n",
              "    <tr>\n",
              "      <th>0</th>\n",
              "      <td>0</td>\n",
              "      <td>1</td>\n",
              "      <td>1</td>\n",
              "      <td>1</td>\n",
              "      <td>0</td>\n",
              "      <td>1</td>\n",
              "      <td>1</td>\n",
              "      <td>1</td>\n",
              "    </tr>\n",
              "    <tr>\n",
              "      <th>1</th>\n",
              "      <td>1</td>\n",
              "      <td>0</td>\n",
              "      <td>1</td>\n",
              "      <td>1</td>\n",
              "      <td>1</td>\n",
              "      <td>1</td>\n",
              "      <td>1</td>\n",
              "      <td>1</td>\n",
              "    </tr>\n",
              "  </tbody>\n",
              "</table>\n",
              "</div>\n",
              "    <div class=\"colab-df-buttons\">\n",
              "\n",
              "  <div class=\"colab-df-container\">\n",
              "    <button class=\"colab-df-convert\" onclick=\"convertToInteractive('df-5ec11c62-2ff9-4f5c-80fd-c91a96b5b606')\"\n",
              "            title=\"Convert this dataframe to an interactive table.\"\n",
              "            style=\"display:none;\">\n",
              "\n",
              "  <svg xmlns=\"http://www.w3.org/2000/svg\" height=\"24px\" viewBox=\"0 -960 960 960\">\n",
              "    <path d=\"M120-120v-720h720v720H120Zm60-500h600v-160H180v160Zm220 220h160v-160H400v160Zm0 220h160v-160H400v160ZM180-400h160v-160H180v160Zm440 0h160v-160H620v160ZM180-180h160v-160H180v160Zm440 0h160v-160H620v160Z\"/>\n",
              "  </svg>\n",
              "    </button>\n",
              "\n",
              "  <style>\n",
              "    .colab-df-container {\n",
              "      display:flex;\n",
              "      gap: 12px;\n",
              "    }\n",
              "\n",
              "    .colab-df-convert {\n",
              "      background-color: #E8F0FE;\n",
              "      border: none;\n",
              "      border-radius: 50%;\n",
              "      cursor: pointer;\n",
              "      display: none;\n",
              "      fill: #1967D2;\n",
              "      height: 32px;\n",
              "      padding: 0 0 0 0;\n",
              "      width: 32px;\n",
              "    }\n",
              "\n",
              "    .colab-df-convert:hover {\n",
              "      background-color: #E2EBFA;\n",
              "      box-shadow: 0px 1px 2px rgba(60, 64, 67, 0.3), 0px 1px 3px 1px rgba(60, 64, 67, 0.15);\n",
              "      fill: #174EA6;\n",
              "    }\n",
              "\n",
              "    .colab-df-buttons div {\n",
              "      margin-bottom: 4px;\n",
              "    }\n",
              "\n",
              "    [theme=dark] .colab-df-convert {\n",
              "      background-color: #3B4455;\n",
              "      fill: #D2E3FC;\n",
              "    }\n",
              "\n",
              "    [theme=dark] .colab-df-convert:hover {\n",
              "      background-color: #434B5C;\n",
              "      box-shadow: 0px 1px 3px 1px rgba(0, 0, 0, 0.15);\n",
              "      filter: drop-shadow(0px 1px 2px rgba(0, 0, 0, 0.3));\n",
              "      fill: #FFFFFF;\n",
              "    }\n",
              "  </style>\n",
              "\n",
              "    <script>\n",
              "      const buttonEl =\n",
              "        document.querySelector('#df-5ec11c62-2ff9-4f5c-80fd-c91a96b5b606 button.colab-df-convert');\n",
              "      buttonEl.style.display =\n",
              "        google.colab.kernel.accessAllowed ? 'block' : 'none';\n",
              "\n",
              "      async function convertToInteractive(key) {\n",
              "        const element = document.querySelector('#df-5ec11c62-2ff9-4f5c-80fd-c91a96b5b606');\n",
              "        const dataTable =\n",
              "          await google.colab.kernel.invokeFunction('convertToInteractive',\n",
              "                                                    [key], {});\n",
              "        if (!dataTable) return;\n",
              "\n",
              "        const docLinkHtml = 'Like what you see? Visit the ' +\n",
              "          '<a target=\"_blank\" href=https://colab.research.google.com/notebooks/data_table.ipynb>data table notebook</a>'\n",
              "          + ' to learn more about interactive tables.';\n",
              "        element.innerHTML = '';\n",
              "        dataTable['output_type'] = 'display_data';\n",
              "        await google.colab.output.renderOutput(dataTable, element);\n",
              "        const docLink = document.createElement('div');\n",
              "        docLink.innerHTML = docLinkHtml;\n",
              "        element.appendChild(docLink);\n",
              "      }\n",
              "    </script>\n",
              "  </div>\n",
              "\n",
              "\n",
              "<div id=\"df-d6f2c5f7-1f10-4710-b38e-171d3700ba63\">\n",
              "  <button class=\"colab-df-quickchart\" onclick=\"quickchart('df-d6f2c5f7-1f10-4710-b38e-171d3700ba63')\"\n",
              "            title=\"Suggest charts\"\n",
              "            style=\"display:none;\">\n",
              "\n",
              "<svg xmlns=\"http://www.w3.org/2000/svg\" height=\"24px\"viewBox=\"0 0 24 24\"\n",
              "     width=\"24px\">\n",
              "    <g>\n",
              "        <path d=\"M19 3H5c-1.1 0-2 .9-2 2v14c0 1.1.9 2 2 2h14c1.1 0 2-.9 2-2V5c0-1.1-.9-2-2-2zM9 17H7v-7h2v7zm4 0h-2V7h2v10zm4 0h-2v-4h2v4z\"/>\n",
              "    </g>\n",
              "</svg>\n",
              "  </button>\n",
              "\n",
              "<style>\n",
              "  .colab-df-quickchart {\n",
              "      --bg-color: #E8F0FE;\n",
              "      --fill-color: #1967D2;\n",
              "      --hover-bg-color: #E2EBFA;\n",
              "      --hover-fill-color: #174EA6;\n",
              "      --disabled-fill-color: #AAA;\n",
              "      --disabled-bg-color: #DDD;\n",
              "  }\n",
              "\n",
              "  [theme=dark] .colab-df-quickchart {\n",
              "      --bg-color: #3B4455;\n",
              "      --fill-color: #D2E3FC;\n",
              "      --hover-bg-color: #434B5C;\n",
              "      --hover-fill-color: #FFFFFF;\n",
              "      --disabled-bg-color: #3B4455;\n",
              "      --disabled-fill-color: #666;\n",
              "  }\n",
              "\n",
              "  .colab-df-quickchart {\n",
              "    background-color: var(--bg-color);\n",
              "    border: none;\n",
              "    border-radius: 50%;\n",
              "    cursor: pointer;\n",
              "    display: none;\n",
              "    fill: var(--fill-color);\n",
              "    height: 32px;\n",
              "    padding: 0;\n",
              "    width: 32px;\n",
              "  }\n",
              "\n",
              "  .colab-df-quickchart:hover {\n",
              "    background-color: var(--hover-bg-color);\n",
              "    box-shadow: 0 1px 2px rgba(60, 64, 67, 0.3), 0 1px 3px 1px rgba(60, 64, 67, 0.15);\n",
              "    fill: var(--button-hover-fill-color);\n",
              "  }\n",
              "\n",
              "  .colab-df-quickchart-complete:disabled,\n",
              "  .colab-df-quickchart-complete:disabled:hover {\n",
              "    background-color: var(--disabled-bg-color);\n",
              "    fill: var(--disabled-fill-color);\n",
              "    box-shadow: none;\n",
              "  }\n",
              "\n",
              "  .colab-df-spinner {\n",
              "    border: 2px solid var(--fill-color);\n",
              "    border-color: transparent;\n",
              "    border-bottom-color: var(--fill-color);\n",
              "    animation:\n",
              "      spin 1s steps(1) infinite;\n",
              "  }\n",
              "\n",
              "  @keyframes spin {\n",
              "    0% {\n",
              "      border-color: transparent;\n",
              "      border-bottom-color: var(--fill-color);\n",
              "      border-left-color: var(--fill-color);\n",
              "    }\n",
              "    20% {\n",
              "      border-color: transparent;\n",
              "      border-left-color: var(--fill-color);\n",
              "      border-top-color: var(--fill-color);\n",
              "    }\n",
              "    30% {\n",
              "      border-color: transparent;\n",
              "      border-left-color: var(--fill-color);\n",
              "      border-top-color: var(--fill-color);\n",
              "      border-right-color: var(--fill-color);\n",
              "    }\n",
              "    40% {\n",
              "      border-color: transparent;\n",
              "      border-right-color: var(--fill-color);\n",
              "      border-top-color: var(--fill-color);\n",
              "    }\n",
              "    60% {\n",
              "      border-color: transparent;\n",
              "      border-right-color: var(--fill-color);\n",
              "    }\n",
              "    80% {\n",
              "      border-color: transparent;\n",
              "      border-right-color: var(--fill-color);\n",
              "      border-bottom-color: var(--fill-color);\n",
              "    }\n",
              "    90% {\n",
              "      border-color: transparent;\n",
              "      border-bottom-color: var(--fill-color);\n",
              "    }\n",
              "  }\n",
              "</style>\n",
              "\n",
              "  <script>\n",
              "    async function quickchart(key) {\n",
              "      const quickchartButtonEl =\n",
              "        document.querySelector('#' + key + ' button');\n",
              "      quickchartButtonEl.disabled = true;  // To prevent multiple clicks.\n",
              "      quickchartButtonEl.classList.add('colab-df-spinner');\n",
              "      try {\n",
              "        const charts = await google.colab.kernel.invokeFunction(\n",
              "            'suggestCharts', [key], {});\n",
              "      } catch (error) {\n",
              "        console.error('Error during call to suggestCharts:', error);\n",
              "      }\n",
              "      quickchartButtonEl.classList.remove('colab-df-spinner');\n",
              "      quickchartButtonEl.classList.add('colab-df-quickchart-complete');\n",
              "    }\n",
              "    (() => {\n",
              "      let quickchartButtonEl =\n",
              "        document.querySelector('#df-d6f2c5f7-1f10-4710-b38e-171d3700ba63 button');\n",
              "      quickchartButtonEl.style.display =\n",
              "        google.colab.kernel.accessAllowed ? 'block' : 'none';\n",
              "    })();\n",
              "  </script>\n",
              "</div>\n",
              "\n",
              "    </div>\n",
              "  </div>\n"
            ],
            "text/plain": [
              "   algo  aprender!  em  está  fazer  focado  hoje  você\n",
              "0     0          1   1     1      0       1     1     1\n",
              "1     1          0   1     1      1       1     1     1"
            ]
          },
          "execution_count": 20,
          "metadata": {},
          "output_type": "execute_result"
        }
      ],
      "source": [
        "texto[\"texto\"].str.get_dummies(\" \")"
      ]
    },
    {
      "cell_type": "code",
      "execution_count": 21,
      "metadata": {
        "colab": {
          "base_uri": "https://localhost:8080/"
        },
        "id": "C4bQU0HrJdTf",
        "outputId": "069d3e28-0fa8-4247-8e15-0cf520bff7dc"
      },
      "outputs": [
        {
          "name": "stdout",
          "output_type": "stream",
          "text": [
            "Collecting tiktoken\n",
            "  Downloading tiktoken-0.9.0-cp311-cp311-manylinux_2_17_x86_64.manylinux2014_x86_64.whl.metadata (6.7 kB)\n",
            "Requirement already satisfied: regex>=2022.1.18 in /usr/local/lib/python3.11/dist-packages (from tiktoken) (2024.11.6)\n",
            "Requirement already satisfied: requests>=2.26.0 in /usr/local/lib/python3.11/dist-packages (from tiktoken) (2.32.3)\n",
            "Requirement already satisfied: charset-normalizer<4,>=2 in /usr/local/lib/python3.11/dist-packages (from requests>=2.26.0->tiktoken) (3.4.1)\n",
            "Requirement already satisfied: idna<4,>=2.5 in /usr/local/lib/python3.11/dist-packages (from requests>=2.26.0->tiktoken) (3.10)\n",
            "Requirement already satisfied: urllib3<3,>=1.21.1 in /usr/local/lib/python3.11/dist-packages (from requests>=2.26.0->tiktoken) (2.3.0)\n",
            "Requirement already satisfied: certifi>=2017.4.17 in /usr/local/lib/python3.11/dist-packages (from requests>=2.26.0->tiktoken) (2025.1.31)\n",
            "Downloading tiktoken-0.9.0-cp311-cp311-manylinux_2_17_x86_64.manylinux2014_x86_64.whl (1.2 MB)\n",
            "\u001b[2K   \u001b[90m━━━━━━━━━━━━━━━━━━━━━━━━━━━━━━━━━━━━━━━━\u001b[0m \u001b[32m1.2/1.2 MB\u001b[0m \u001b[31m12.4 MB/s\u001b[0m eta \u001b[36m0:00:00\u001b[0m\n",
            "\u001b[?25hInstalling collected packages: tiktoken\n",
            "Successfully installed tiktoken-0.9.0\n"
          ]
        }
      ],
      "source": [
        "!pip install tiktoken"
      ]
    },
    {
      "cell_type": "code",
      "execution_count": 22,
      "metadata": {
        "colab": {
          "base_uri": "https://localhost:8080/"
        },
        "id": "Eoz3YoruJ8l3",
        "outputId": "7049e338-9ed6-476b-e17d-849639caea84"
      },
      "outputs": [
        {
          "data": {
            "text/plain": [
              "[8873, 18015, 12776, 25792, 1556, 6557, 2133, 4533, 795, 2471, 13287, 0]"
            ]
          },
          "execution_count": 22,
          "metadata": {},
          "output_type": "execute_result"
        }
      ],
      "source": [
        "import tiktoken\n",
        "enc = tiktoken.get_encoding(\"gpt2\")\n",
        "enc.encode(\"hoje você está focado em aprender!\")"
      ]
    },
    {
      "cell_type": "code",
      "execution_count": 24,
      "metadata": {
        "colab": {
          "base_uri": "https://localhost:8080/"
        },
        "id": "WmDzcXD5KC7j",
        "outputId": "860437e6-5bb6-444e-e4af-536ada30a0b1"
      },
      "outputs": [
        {
          "name": "stdout",
          "output_type": "stream",
          "text": [
            "[7, 11, 8, 5, 0, 16, 11, 3, 18, 0, 5, 14, 15, 17, 0, 6, 11, 3, 2, 4, 11, 0, 5, 9, 0, 2, 12, 13, 5, 10, 4, 5, 13, 1]\n"
          ]
        },
        {
          "data": {
            "text/plain": [
              "[8873, 18015, 12776, 25792, 1556, 6557, 2133, 4533, 795, 2471, 13287, 0]"
            ]
          },
          "execution_count": 24,
          "metadata": {},
          "output_type": "execute_result"
        }
      ],
      "source": [
        "print(encode('hoje você está focado em aprender!')) # encoder montado\n",
        "enc.encode(\"hoje você está focado em aprender!\") # encoder importado"
      ]
    },
    {
      "cell_type": "code",
      "execution_count": 28,
      "metadata": {
        "colab": {
          "base_uri": "https://localhost:8080/"
        },
        "id": "WSgkOZVzKN26",
        "outputId": "d7e06e92-57c8-401b-eb1f-9a9e79905bc3"
      },
      "outputs": [
        {
          "name": "stdout",
          "output_type": "stream",
          "text": [
            "[16, 2, 9, 11, 14, 0, 2, 12, 13, 5, 10, 4, 5, 13, 0, 15, 13, 2, 10, 14, 6, 11, 13, 9, 5, 13, 14]\n"
          ]
        }
      ],
      "source": [
        "texto = encode(\"vamos aprender transformers\") # texto usado para as comparações\n",
        "len(texto)\n",
        "print(texto)"
      ]
    },
    {
      "cell_type": "code",
      "execution_count": 27,
      "metadata": {
        "colab": {
          "base_uri": "https://localhost:8080/"
        },
        "id": "UI883y0hKxOR",
        "outputId": "8f49dba8-db62-4fe3-82cb-18df336cefb8"
      },
      "outputs": [
        {
          "name": "stdout",
          "output_type": "stream",
          "text": [
            "Quando os dados forem: [16] o alvo é 9\n",
            "Quando os dados forem: [16, 2] o alvo é 11\n",
            "Quando os dados forem: [16, 2, 9] o alvo é 14\n",
            "Quando os dados forem: [16, 2, 9, 11] o alvo é 0\n",
            "Quando os dados forem: [16, 2, 9, 11, 14] o alvo é 2\n",
            "Quando os dados forem: [16, 2, 9, 11, 14, 0] o alvo é 12\n",
            "Quando os dados forem: [16, 2, 9, 11, 14, 0, 2] o alvo é 13\n",
            "Quando os dados forem: [16, 2, 9, 11, 14, 0, 2, 12] o alvo é 5\n",
            "Quando os dados forem: [16, 2, 9, 11, 14, 0, 2, 12, 13] o alvo é 10\n",
            "Quando os dados forem: [16, 2, 9, 11, 14, 0, 2, 12, 13, 5] o alvo é 4\n",
            "Quando os dados forem: [16, 2, 9, 11, 14, 0, 2, 12, 13, 5, 10] o alvo é 5\n",
            "Quando os dados forem: [16, 2, 9, 11, 14, 0, 2, 12, 13, 5, 10, 4] o alvo é 13\n",
            "Quando os dados forem: [16, 2, 9, 11, 14, 0, 2, 12, 13, 5, 10, 4, 5] o alvo é 0\n",
            "Quando os dados forem: [16, 2, 9, 11, 14, 0, 2, 12, 13, 5, 10, 4, 5, 13] o alvo é 15\n",
            "Quando os dados forem: [16, 2, 9, 11, 14, 0, 2, 12, 13, 5, 10, 4, 5, 13, 0] o alvo é 13\n",
            "Quando os dados forem: [16, 2, 9, 11, 14, 0, 2, 12, 13, 5, 10, 4, 5, 13, 0, 15] o alvo é 2\n",
            "Quando os dados forem: [16, 2, 9, 11, 14, 0, 2, 12, 13, 5, 10, 4, 5, 13, 0, 15, 13] o alvo é 10\n",
            "Quando os dados forem: [16, 2, 9, 11, 14, 0, 2, 12, 13, 5, 10, 4, 5, 13, 0, 15, 13, 2] o alvo é 14\n",
            "Quando os dados forem: [16, 2, 9, 11, 14, 0, 2, 12, 13, 5, 10, 4, 5, 13, 0, 15, 13, 2, 10] o alvo é 6\n",
            "Quando os dados forem: [16, 2, 9, 11, 14, 0, 2, 12, 13, 5, 10, 4, 5, 13, 0, 15, 13, 2, 10, 14] o alvo é 11\n",
            "Quando os dados forem: [16, 2, 9, 11, 14, 0, 2, 12, 13, 5, 10, 4, 5, 13, 0, 15, 13, 2, 10, 14, 6] o alvo é 13\n",
            "Quando os dados forem: [16, 2, 9, 11, 14, 0, 2, 12, 13, 5, 10, 4, 5, 13, 0, 15, 13, 2, 10, 14, 6, 11] o alvo é 9\n",
            "Quando os dados forem: [16, 2, 9, 11, 14, 0, 2, 12, 13, 5, 10, 4, 5, 13, 0, 15, 13, 2, 10, 14, 6, 11, 13] o alvo é 5\n",
            "Quando os dados forem: [16, 2, 9, 11, 14, 0, 2, 12, 13, 5, 10, 4, 5, 13, 0, 15, 13, 2, 10, 14, 6, 11, 13, 9] o alvo é 13\n",
            "Quando os dados forem: [16, 2, 9, 11, 14, 0, 2, 12, 13, 5, 10, 4, 5, 13, 0, 15, 13, 2, 10, 14, 6, 11, 13, 9, 5] o alvo é 14\n"
          ]
        }
      ],
      "source": [
        "# gpt\n",
        "for i in range(len(texto)-1):\n",
        "  x = texto[:i]\n",
        "  y = texto[i+1]\n",
        "  if x != []:\n",
        "    print(f'Quando os dados forem: {x} o alvo é {y}')"
      ]
    },
    {
      "cell_type": "code",
      "execution_count": 29,
      "metadata": {
        "colab": {
          "base_uri": "https://localhost:8080/"
        },
        "id": "4UoaD8yXLMeL",
        "outputId": "adb986bd-f5ee-480a-d43e-5f067f3927c5"
      },
      "outputs": [
        {
          "name": "stdout",
          "output_type": "stream",
          "text": [
            "Quandos os dados forem: [16, 2, 9, 11, 14, 0, 2, 12, 13, 5, 10, 4, 5, 13, 0, 15, 13, 2, 10, 14, 6, 11, 13, 9, 5, 13, 14] o alvo é [16, 2, 9, 11, 14, 0, 2, 12, 13, 5, 10, 4, 5, 13, 0, 15, 13, 2, 10, 14, 6, '<mask>', 13, 9, 5, 13, 14]\n",
            "Quandos os dados forem: [16, 2, 9, 11, 14, 0, 2, 12, 13, 5, 10, 4, 5, 13, 0, 15, 13, 2, 10, 14, 6, 11, 13, 9, 5, 13, 14] o alvo é [16, 2, 9, 11, 14, 0, 2, 12, 13, 5, 10, '<mask>', 5, 13, 0, 15, 13, 2, 10, 14, 6, 11, 13, 9, 5, 13, 14]\n",
            "Quandos os dados forem: [16, 2, 9, 11, 14, 0, 2, 12, 13, 5, 10, 4, 5, 13, 0, 15, 13, 2, 10, 14, 6, 11, 13, 9, 5, 13, 14] o alvo é [16, 2, 9, 11, 14, 0, 2, 12, 13, 5, 10, 4, 5, 13, 0, 15, 13, 2, 10, 14, 6, 11, 13, 9, '<mask>', 13, 14]\n",
            "Quandos os dados forem: [16, 2, 9, 11, 14, 0, 2, 12, 13, 5, 10, 4, 5, 13, 0, 15, 13, 2, 10, 14, 6, 11, 13, 9, 5, 13, 14] o alvo é [16, 2, 9, 11, 14, 0, 2, 12, 13, '<mask>', 10, 4, 5, 13, 0, 15, 13, 2, 10, 14, 6, 11, 13, 9, 5, 13, 14]\n",
            "Quandos os dados forem: [16, 2, 9, 11, 14, 0, 2, 12, 13, 5, 10, 4, 5, 13, 0, 15, 13, 2, 10, 14, 6, 11, 13, 9, 5, 13, 14] o alvo é [16, 2, 9, 11, 14, 0, 2, '<mask>', 13, 5, 10, 4, 5, 13, 0, 15, 13, 2, 10, 14, 6, 11, 13, 9, 5, 13, 14]\n",
            "Quandos os dados forem: [16, 2, 9, 11, 14, 0, 2, 12, 13, 5, 10, 4, 5, 13, 0, 15, 13, 2, 10, 14, 6, 11, 13, 9, 5, 13, 14] o alvo é [16, 2, 9, 11, 14, 0, 2, 12, 13, 5, 10, 4, 5, 13, 0, 15, 13, 2, 10, 14, 6, '<mask>', 13, 9, 5, 13, 14]\n",
            "Quandos os dados forem: [16, 2, 9, 11, 14, 0, 2, 12, 13, 5, 10, 4, 5, 13, 0, 15, 13, 2, 10, 14, 6, 11, 13, 9, 5, 13, 14] o alvo é [16, 2, 9, 11, 14, 0, 2, 12, 13, 5, 10, 4, 5, 13, 0, 15, 13, 2, 10, 14, 6, 11, 13, 9, 5, 13, '<mask>']\n",
            "Quandos os dados forem: [16, 2, 9, 11, 14, 0, 2, 12, 13, 5, 10, 4, 5, 13, 0, 15, 13, 2, 10, 14, 6, 11, 13, 9, 5, 13, 14] o alvo é [16, 2, 9, 11, 14, 0, 2, '<mask>', 13, 5, 10, 4, 5, 13, 0, 15, 13, 2, 10, 14, 6, 11, 13, 9, 5, 13, 14]\n",
            "Quandos os dados forem: [16, 2, 9, 11, 14, 0, 2, 12, 13, 5, 10, 4, 5, 13, 0, 15, 13, 2, 10, 14, 6, 11, 13, 9, 5, 13, 14] o alvo é [16, 2, 9, 11, 14, 0, 2, 12, 13, 5, '<mask>', 4, 5, 13, 0, 15, 13, 2, 10, 14, 6, 11, 13, 9, 5, 13, 14]\n",
            "Quandos os dados forem: [16, 2, 9, 11, 14, 0, 2, 12, 13, 5, 10, 4, 5, 13, 0, 15, 13, 2, 10, 14, 6, 11, 13, 9, 5, 13, 14] o alvo é [16, 2, 9, 11, 14, 0, 2, 12, 13, 5, 10, 4, 5, 13, 0, 15, 13, 2, 10, 14, 6, 11, 13, '<mask>', 5, 13, 14]\n",
            "Quandos os dados forem: [16, 2, 9, 11, 14, 0, 2, 12, 13, 5, 10, 4, 5, 13, 0, 15, 13, 2, 10, 14, 6, 11, 13, 9, 5, 13, 14] o alvo é [16, 2, 9, 11, 14, 0, 2, 12, 13, 5, 10, 4, 5, 13, 0, '<mask>', 13, 2, 10, 14, 6, 11, 13, 9, 5, 13, 14]\n",
            "Quandos os dados forem: [16, 2, 9, 11, 14, 0, 2, 12, 13, 5, 10, 4, 5, 13, 0, 15, 13, 2, 10, 14, 6, 11, 13, 9, 5, 13, 14] o alvo é [16, 2, 9, 11, 14, 0, 2, 12, 13, 5, 10, 4, 5, '<mask>', 0, 15, 13, 2, 10, 14, 6, 11, 13, 9, 5, 13, 14]\n",
            "Quandos os dados forem: [16, 2, 9, 11, 14, 0, 2, 12, 13, 5, 10, 4, 5, 13, 0, 15, 13, 2, 10, 14, 6, 11, 13, 9, 5, 13, 14] o alvo é [16, 2, 9, 11, 14, 0, 2, 12, 13, 5, 10, 4, 5, 13, 0, 15, 13, 2, '<mask>', 14, 6, 11, 13, 9, 5, 13, 14]\n",
            "Quandos os dados forem: [16, 2, 9, 11, 14, 0, 2, 12, 13, 5, 10, 4, 5, 13, 0, 15, 13, 2, 10, 14, 6, 11, 13, 9, 5, 13, 14] o alvo é [16, '<mask>', 9, 11, 14, 0, 2, 12, 13, 5, 10, 4, 5, 13, 0, 15, 13, 2, 10, 14, 6, 11, 13, 9, 5, 13, 14]\n",
            "Quandos os dados forem: [16, 2, 9, 11, 14, 0, 2, 12, 13, 5, 10, 4, 5, 13, 0, 15, 13, 2, 10, 14, 6, 11, 13, 9, 5, 13, 14] o alvo é [16, 2, 9, '<mask>', 14, 0, 2, 12, 13, 5, 10, 4, 5, 13, 0, 15, 13, 2, 10, 14, 6, 11, 13, 9, 5, 13, 14]\n",
            "Quandos os dados forem: [16, 2, 9, 11, 14, 0, 2, 12, 13, 5, 10, 4, 5, 13, 0, 15, 13, 2, 10, 14, 6, 11, 13, 9, 5, 13, 14] o alvo é [16, 2, '<mask>', 11, 14, 0, 2, 12, 13, 5, 10, 4, 5, 13, 0, 15, 13, 2, 10, 14, 6, 11, 13, 9, 5, 13, 14]\n",
            "Quandos os dados forem: [16, 2, 9, 11, 14, 0, 2, 12, 13, 5, 10, 4, 5, 13, 0, 15, 13, 2, 10, 14, 6, 11, 13, 9, 5, 13, 14] o alvo é [16, 2, 9, 11, 14, 0, 2, 12, 13, 5, 10, 4, 5, '<mask>', 0, 15, 13, 2, 10, 14, 6, 11, 13, 9, 5, 13, 14]\n",
            "Quandos os dados forem: [16, 2, 9, 11, 14, 0, 2, 12, 13, 5, 10, 4, 5, 13, 0, 15, 13, 2, 10, 14, 6, 11, 13, 9, 5, 13, 14] o alvo é [16, 2, 9, 11, 14, 0, 2, 12, 13, 5, 10, 4, 5, 13, 0, 15, '<mask>', 2, 10, 14, 6, 11, 13, 9, 5, 13, 14]\n",
            "Quandos os dados forem: [16, 2, 9, 11, 14, 0, 2, 12, 13, 5, 10, 4, 5, 13, 0, 15, 13, 2, 10, 14, 6, 11, 13, 9, 5, 13, 14] o alvo é [16, 2, 9, 11, 14, 0, 2, 12, 13, 5, 10, 4, 5, 13, 0, 15, 13, 2, 10, 14, 6, 11, 13, 9, 5, 13, '<mask>']\n",
            "Quandos os dados forem: [16, 2, 9, 11, 14, 0, 2, 12, 13, 5, 10, 4, 5, 13, 0, 15, 13, 2, 10, 14, 6, 11, 13, 9, 5, 13, 14] o alvo é [16, 2, 9, 11, 14, 0, 2, '<mask>', 13, 5, 10, 4, 5, 13, 0, 15, 13, 2, 10, 14, 6, 11, 13, 9, 5, 13, 14]\n",
            "Quandos os dados forem: [16, 2, 9, 11, 14, 0, 2, 12, 13, 5, 10, 4, 5, 13, 0, 15, 13, 2, 10, 14, 6, 11, 13, 9, 5, 13, 14] o alvo é [16, 2, 9, 11, 14, 0, 2, 12, '<mask>', 5, 10, 4, 5, 13, 0, 15, 13, 2, 10, 14, 6, 11, 13, 9, 5, 13, 14]\n",
            "Quandos os dados forem: [16, 2, 9, 11, 14, 0, 2, 12, 13, 5, 10, 4, 5, 13, 0, 15, 13, 2, 10, 14, 6, 11, 13, 9, 5, 13, 14] o alvo é [16, 2, 9, 11, 14, 0, 2, 12, 13, 5, 10, 4, 5, 13, 0, 15, '<mask>', 2, 10, 14, 6, 11, 13, 9, 5, 13, 14]\n",
            "Quandos os dados forem: [16, 2, 9, 11, 14, 0, 2, 12, 13, 5, 10, 4, 5, 13, 0, 15, 13, 2, 10, 14, 6, 11, 13, 9, 5, 13, 14] o alvo é [16, 2, 9, 11, 14, 0, 2, 12, 13, '<mask>', 10, 4, 5, 13, 0, 15, 13, 2, 10, 14, 6, 11, 13, 9, 5, 13, 14]\n",
            "Quandos os dados forem: [16, 2, 9, 11, 14, 0, 2, 12, 13, 5, 10, 4, 5, 13, 0, 15, 13, 2, 10, 14, 6, 11, 13, 9, 5, 13, 14] o alvo é [16, 2, 9, 11, 14, 0, '<mask>', 12, 13, 5, 10, 4, 5, 13, 0, 15, 13, 2, 10, 14, 6, 11, 13, 9, 5, 13, 14]\n",
            "Quandos os dados forem: [16, 2, 9, 11, 14, 0, 2, 12, 13, 5, 10, 4, 5, 13, 0, 15, 13, 2, 10, 14, 6, 11, 13, 9, 5, 13, 14] o alvo é [16, 2, 9, 11, 14, 0, 2, 12, '<mask>', 5, 10, 4, 5, 13, 0, 15, 13, 2, 10, 14, 6, 11, 13, 9, 5, 13, 14]\n",
            "Quandos os dados forem: [16, 2, 9, 11, 14, 0, 2, 12, 13, 5, 10, 4, 5, 13, 0, 15, 13, 2, 10, 14, 6, 11, 13, 9, 5, 13, 14] o alvo é [16, 2, 9, 11, 14, 0, 2, '<mask>', 13, 5, 10, 4, 5, 13, 0, 15, 13, 2, 10, 14, 6, 11, 13, 9, 5, 13, 14]\n",
            "Quandos os dados forem: [16, 2, 9, 11, 14, 0, 2, 12, 13, 5, 10, 4, 5, 13, 0, 15, 13, 2, 10, 14, 6, 11, 13, 9, 5, 13, 14] o alvo é [16, 2, 9, 11, 14, 0, 2, 12, 13, 5, 10, 4, 5, 13, 0, 15, 13, 2, 10, 14, 6, 11, 13, '<mask>', 5, 13, 14]\n"
          ]
        }
      ],
      "source": [
        "from random import randint\n",
        "\n",
        "# bert\n",
        "for i in range(len(texto)):\n",
        "  x = texto\n",
        "  y = texto.copy()\n",
        "  idx_mask = randint(0, len(texto)-1)\n",
        "  y[idx_mask] = '<mask>'\n",
        "  print(f'Quandos os dados forem: {x} o alvo é {y}')"
      ]
    },
    {
      "cell_type": "code",
      "execution_count": null,
      "metadata": {
        "id": "rYoj7wQNLyZK"
      },
      "outputs": [],
      "source": []
    }
  ],
  "metadata": {
    "colab": {
      "provenance": []
    },
    "kernelspec": {
      "display_name": "Python 3",
      "name": "python3"
    },
    "language_info": {
      "name": "python"
    }
  },
  "nbformat": 4,
  "nbformat_minor": 0
}
